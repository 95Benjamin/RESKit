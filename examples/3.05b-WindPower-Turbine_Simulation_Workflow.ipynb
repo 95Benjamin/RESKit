{
 "cells": [
  {
   "cell_type": "markdown",
   "metadata": {},
   "source": [
    "# Advanced Wind Turbine Simulation Workflow\n",
    "\n",
    "* A more advanced turbine workflow will include many steps (Which have been showcased in previous examples)\n",
    "* The process exemplified here includes:\n",
    "  1. Weather data extraction from a MERRA dataset (windspeed, pressure, temperature)\n",
    "  2. Spatial adjustment of the windspeeds\n",
    "  3. Vertical projection of the wind speeds\n",
    "  4. Wind speed density correction\n",
    "  5. Power curve convolution\n",
    "  6. Capacity Factor Estimation"
   ]
  },
  {
   "cell_type": "code",
   "execution_count": 24,
   "metadata": {},
   "outputs": [],
   "source": [
    "import reskit as rk\n",
    "from reskit import windpower\n",
    "\n",
    "import numpy as np\n",
    "import matplotlib.pyplot as plt\n",
    "%matplotlib inline"
   ]
  },
  {
   "cell_type": "markdown",
   "metadata": {},
   "source": [
    "# Simulate a Single Location"
   ]
  },
  {
   "cell_type": "code",
   "execution_count": 25,
   "metadata": {},
   "outputs": [],
   "source": [
    "# Set some constants for later\n",
    "\n",
    "TURBINE_CAPACITY = 4200 # kW\n",
    "TURBINE_HUB_HEIGHT = 120 # meters\n",
    "TURBINE_ROTOR_DIAMETER = 136 # meters\n",
    "TURBINE_LOCATION = (6.0,50.5) # (lon, lat)"
   ]
  },
  {
   "cell_type": "code",
   "execution_count": 26,
   "metadata": {},
   "outputs": [
    {
     "name": "stdout",
     "output_type": "stream",
     "text": [
      "2015-01-01 00:30:00.000013+00:00    5.383743\n",
      "2015-01-01 01:30:00+00:00           5.323299\n",
      "2015-01-01 02:30:00.000026+00:00    5.232418\n",
      "2015-01-01 03:30:00.000013+00:00    5.160997\n",
      "2015-01-01 04:30:00+00:00           5.439261\n",
      "Name: (6.00000,50.50000), dtype: float64\n"
     ]
    }
   ],
   "source": [
    "# 1. Create a weather source, load, and extract weather variables\n",
    "src = rk.weather.sources.MerraSource(rk._TEST_DATA_[\"weather_data\"], bounds=[5,49,7,52], verbose=False)\n",
    "\n",
    "src.loadWindSpeed()\n",
    "src.loadPressure()\n",
    "src.loadTemperature()\n",
    "\n",
    "raw_windspeeds = src.get(\"windspeed\", locations=TURBINE_LOCATION, interpolation='bilinear')\n",
    "raw_pressure = src.get(\"pressure\", locations=TURBINE_LOCATION, interpolation='bilinear')\n",
    "raw_temperature = src.get(\"air_temp\", locations=TURBINE_LOCATION, interpolation='bilinear')\n",
    "\n",
    "print(raw_windspeeds.head())"
   ]
  },
  {
   "cell_type": "code",
   "execution_count": 27,
   "metadata": {},
   "outputs": [
    {
     "data": {
      "text/plain": [
       "2015-01-01 00:30:00.000013+00:00    3.691850\n",
       "2015-01-01 01:30:00+00:00           3.650401\n",
       "2015-01-01 02:30:00.000026+00:00    3.588080\n",
       "2015-01-01 03:30:00.000013+00:00    3.539104\n",
       "2015-01-01 04:30:00+00:00           3.729921\n",
       "Name: (6.00000,50.50000), dtype: float64"
      ]
     },
     "execution_count": 27,
     "metadata": {},
     "output_type": "execute_result"
    }
   ],
   "source": [
    "# 2. Adjust wind speeds to turbine location\n",
    "\n",
    "spatially_adjusted_windspeeds = rk.weather.windutil.adjustLraToGwa(windspeed=raw_windspeeds, \n",
    "                                                                   targetLoc=TURBINE_LOCATION,\n",
    "                                                                   gwa=rk._TEST_DATA_['gwa50-like.tif'], \n",
    "                                                                   longRunAverage=src.LONG_RUN_AVERAGE_50M_SOURCE,\n",
    "                                                                   interpolation='bilinear')\n",
    "\n",
    "spatially_adjusted_windspeeds.head()"
   ]
  },
  {
   "cell_type": "code",
   "execution_count": 28,
   "metadata": {},
   "outputs": [
    {
     "name": "stdout",
     "output_type": "stream",
     "text": [
      "2015-01-01 00:30:00.000013+00:00    4.461451\n",
      "2015-01-01 01:30:00+00:00           4.411362\n",
      "2015-01-01 02:30:00.000026+00:00    4.336050\n",
      "2015-01-01 03:30:00.000013+00:00    4.276864\n",
      "2015-01-01 04:30:00+00:00           4.507459\n",
      "Name: (6.00000,50.50000), dtype: float64\n"
     ]
    }
   ],
   "source": [
    "# 3. Vertically project wind speeds to hub height\n",
    "\n",
    "roughness = rk.weather.windutil.roughnessFromCLC(clcPath=rk._TEST_DATA_['clc-aachen_clipped.tif'],\n",
    "                                                 loc=TURBINE_LOCATION)\n",
    "\n",
    "\n",
    "projected_windspeed = rk.weather.windutil.projectByLogLaw(measuredWindspeed=spatially_adjusted_windspeeds,\n",
    "                                                          measuredHeight=50, # The MERRA dataset offers windspeeds at 50m\n",
    "                                                          targetHeight=TURBINE_HUB_HEIGHT,\n",
    "                                                          roughness=roughness)\n",
    "\n",
    "print(projected_windspeed.head())"
   ]
  },
  {
   "cell_type": "code",
   "execution_count": 29,
   "metadata": {},
   "outputs": [
    {
     "data": {
      "text/plain": [
       "2015-01-01 00:30:00.000013+00:00    4.498938\n",
       "2015-01-01 01:30:00+00:00           4.447499\n",
       "2015-01-01 02:30:00.000026+00:00    4.370992\n",
       "2015-01-01 03:30:00.000013+00:00    4.311491\n",
       "2015-01-01 04:30:00+00:00           4.544032\n",
       "Name: (6.00000,50.50000), dtype: float64"
      ]
     },
     "execution_count": 29,
     "metadata": {},
     "output_type": "execute_result"
    }
   ],
   "source": [
    "# 4. Apply density correction\n",
    "\n",
    "pressure_corrected_windspeeds = rk.weather.windutil.densityAdjustment(windspeed=projected_windspeed,\n",
    "                                                                      pressure=raw_pressure,\n",
    "                                                                      temperature=raw_temperature,\n",
    "                                                                      height=TURBINE_HUB_HEIGHT)\n",
    "\n",
    "pressure_corrected_windspeeds.head()"
   ]
  },
  {
   "cell_type": "code",
   "execution_count": 30,
   "metadata": {},
   "outputs": [],
   "source": [
    "# 5 Power curve estimation and convolution\n",
    "\n",
    "power_curve = windpower.SyntheticPowerCurve(capacity=TURBINE_CAPACITY, rotordiam=TURBINE_ROTOR_DIAMETER)\n",
    "\n",
    "convoluted_power_curve = windpower.convolutePowerCurveByGuassian(powerCurve=power_curve, stdScaling=0.06, stdBase=0.1)"
   ]
  },
  {
   "cell_type": "code",
   "execution_count": 31,
   "metadata": {},
   "outputs": [
    {
     "data": {
      "text/plain": [
       "2015-01-01 00:30:00.000013+00:00    0.071262\n",
       "2015-01-01 01:30:00+00:00           0.068269\n",
       "2015-01-01 02:30:00.000026+00:00    0.063929\n",
       "2015-01-01 03:30:00.000013+00:00    0.060645\n",
       "2015-01-01 04:30:00+00:00           0.073936\n",
       "dtype: float64"
      ]
     },
     "execution_count": 31,
     "metadata": {},
     "output_type": "execute_result"
    }
   ],
   "source": [
    "# 6 Capacity factor estimation\n",
    "capacity_factors = windpower.simulateTurbine(windspeed=pressure_corrected_windspeeds,\n",
    "                                             powerCurve=convoluted_power_curve)\n",
    "\n",
    "capacity_factors.head()"
   ]
  },
  {
   "cell_type": "code",
   "execution_count": 32,
   "metadata": {},
   "outputs": [
    {
     "data": {
      "image/png": "[encoded data removed]",
      "text/plain": [
       "<Figure size 432x288 with 1 Axes>"
      ]
     },
     "metadata": {
      "needs_background": "light"
     },
     "output_type": "display_data"
    }
   ],
   "source": [
    "capacity_factors.plot()\n",
    "plt.show()"
   ]
  },
  {
   "cell_type": "markdown",
   "metadata": {},
   "source": [
    "# Simulate multiple locations at once (recommended)"
   ]
  },
  {
   "cell_type": "code",
   "execution_count": 33,
   "metadata": {},
   "outputs": [
    {
     "data": {
      "text/html": [
       "<div>\n",
       "<style scoped>\n",
       "    .dataframe tbody tr th:only-of-type {\n",
       "        vertical-align: middle;\n",
       "    }\n",
       "\n",
       "    .dataframe tbody tr th {\n",
       "        vertical-align: top;\n",
       "    }\n",
       "\n",
       "    .dataframe thead th {\n",
       "        text-align: right;\n",
       "    }\n",
       "</style>\n",
       "<table border=\"1\" class=\"dataframe\">\n",
       "  <thead>\n",
       "    <tr style=\"text-align: right;\">\n",
       "      <th></th>\n",
       "      <th>(6.25000,51.00000)</th>\n",
       "      <th>(6.50000,51.00000)</th>\n",
       "      <th>(6.25000,50.75000)</th>\n",
       "    </tr>\n",
       "  </thead>\n",
       "  <tbody>\n",
       "    <tr>\n",
       "      <th>2015-01-01 00:30:00.000013+00:00</th>\n",
       "      <td>0.177383</td>\n",
       "      <td>0.127191</td>\n",
       "      <td>0.043987</td>\n",
       "    </tr>\n",
       "    <tr>\n",
       "      <th>2015-01-01 01:30:00+00:00</th>\n",
       "      <td>0.180171</td>\n",
       "      <td>0.127224</td>\n",
       "      <td>0.042301</td>\n",
       "    </tr>\n",
       "    <tr>\n",
       "      <th>2015-01-01 02:30:00.000026+00:00</th>\n",
       "      <td>0.175838</td>\n",
       "      <td>0.125234</td>\n",
       "      <td>0.039020</td>\n",
       "    </tr>\n",
       "    <tr>\n",
       "      <th>2015-01-01 03:30:00.000013+00:00</th>\n",
       "      <td>0.158180</td>\n",
       "      <td>0.114935</td>\n",
       "      <td>0.034260</td>\n",
       "    </tr>\n",
       "    <tr>\n",
       "      <th>2015-01-01 04:30:00+00:00</th>\n",
       "      <td>0.165764</td>\n",
       "      <td>0.123624</td>\n",
       "      <td>0.038762</td>\n",
       "    </tr>\n",
       "  </tbody>\n",
       "</table>\n",
       "</div>"
      ],
      "text/plain": [
       "                                  (6.25000,51.00000)  (6.50000,51.00000)  \\\n",
       "2015-01-01 00:30:00.000013+00:00            0.177383            0.127191   \n",
       "2015-01-01 01:30:00+00:00                   0.180171            0.127224   \n",
       "2015-01-01 02:30:00.000026+00:00            0.175838            0.125234   \n",
       "2015-01-01 03:30:00.000013+00:00            0.158180            0.114935   \n",
       "2015-01-01 04:30:00+00:00                   0.165764            0.123624   \n",
       "\n",
       "                                  (6.25000,50.75000)  \n",
       "2015-01-01 00:30:00.000013+00:00            0.043987  \n",
       "2015-01-01 01:30:00+00:00                   0.042301  \n",
       "2015-01-01 02:30:00.000026+00:00            0.039020  \n",
       "2015-01-01 03:30:00.000013+00:00            0.034260  \n",
       "2015-01-01 04:30:00+00:00                   0.038762  "
      ]
     },
     "execution_count": 33,
     "metadata": {},
     "output_type": "execute_result"
    }
   ],
   "source": [
    "TURBINE_CAPACITY = 4200 # kW\n",
    "TURBINE_HUB_HEIGHT = 120 # meters\n",
    "TURBINE_ROTOR_DIAMETER = 136 # meters\n",
    "TURBINE_LOCATION = [(6.25,51.), (6.50,51.), (6.25,50.75)] # (lon,lat)\n",
    "\n",
    "\n",
    "# 1\n",
    "raw_windspeeds = src.get(\"windspeed\", locations=TURBINE_LOCATION, interpolation='bilinear')\n",
    "raw_pressure = src.get(\"pressure\", locations=TURBINE_LOCATION, interpolation='bilinear')\n",
    "raw_temperature = src.get(\"air_temp\", locations=TURBINE_LOCATION, interpolation='bilinear')\n",
    "\n",
    "#2 \n",
    "spatially_adjusted_windspeeds = rk.weather.windutil.adjustLraToGwa(windspeed=raw_windspeeds, \n",
    "                                                                   targetLoc=TURBINE_LOCATION,\n",
    "                                                                   gwa=rk._TEST_DATA_['gwa50-like.tif'], \n",
    "                                                                   longRunAverage=src.LONG_RUN_AVERAGE_50M_SOURCE,\n",
    "                                                                   interpolation='bilinear')\n",
    "\n",
    "# 3\n",
    "roughness = rk.weather.windutil.roughnessFromCLC(clcPath=rk._TEST_DATA_['clc-aachen_clipped.tif'],\n",
    "                                                 loc=TURBINE_LOCATION)\n",
    "\n",
    "projected_windspeed = rk.weather.windutil.projectByLogLaw(measuredWindspeed=spatially_adjusted_windspeeds,\n",
    "                                                          measuredHeight=50, # The MERRA dataset offers windspeeds at 50m\n",
    "                                                          targetHeight=TURBINE_HUB_HEIGHT,\n",
    "                                                          roughness=np.array(roughness))\n",
    "\n",
    "# 4\n",
    "pressure_corrected_windspeeds = rk.weather.windutil.densityAdjustment(windspeed=projected_windspeed,\n",
    "                                                                      pressure=raw_pressure,\n",
    "                                                                      temperature=raw_temperature,\n",
    "                                                                      height=TURBINE_HUB_HEIGHT)\n",
    "\n",
    "# 5\n",
    "power_curve = windpower.SyntheticPowerCurve(capacity=TURBINE_CAPACITY, rotordiam=TURBINE_ROTOR_DIAMETER)\n",
    "convoluted_power_curve = windpower.convolutePowerCurveByGuassian(powerCurve=power_curve, stdScaling=0.06, stdBase=0.1)\n",
    "\n",
    "# 6\n",
    "capacity_factors = windpower.simulateTurbine(windspeed=pressure_corrected_windspeeds,\n",
    "                                             powerCurve=convoluted_power_curve)\n",
    "\n",
    "\n",
    "# Print result\n",
    "capacity_factors.head()"
   ]
  },
  {
   "cell_type": "code",
   "execution_count": 34,
   "metadata": {},
   "outputs": [
    {
     "data": {
      "image/png": "[encoded data removed]",
      "text/plain": [
       "<Figure size 432x288 with 1 Axes>"
      ]
     },
     "metadata": {
      "needs_background": "light"
     },
     "output_type": "display_data"
    }
   ],
   "source": [
    "capacity_factors.plot()\n",
    "plt.show()"
   ]
  },
  {
   "cell_type": "code",
   "execution_count": null,
   "metadata": {},
   "outputs": [],
   "source": []
  }
 ],
 "metadata": {
  "kernelspec": {
   "display_name": "Python 3",
   "language": "python",
   "name": "python3"
  },
  "language_info": {
   "codemirror_mode": {
    "name": "ipython",
    "version": 3
   },
   "file_extension": ".py",
   "mimetype": "text/x-python",
   "name": "python",
   "nbconvert_exporter": "python",
   "pygments_lexer": "ipython3",
   "version": "3.6.8"
  }
 },
 "nbformat": 4,
 "nbformat_minor": 2
}
