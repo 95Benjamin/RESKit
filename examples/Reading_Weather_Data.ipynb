{
 "cells": [
  {
   "cell_type": "code",
   "execution_count": 1,
   "metadata": {},
   "outputs": [],
   "source": [
    "import res\n",
    "import geokit as gk"
   ]
  },
  {
   "cell_type": "markdown",
   "metadata": {},
   "source": [
    "# Initialize a MERRA data file"
   ]
  },
  {
   "cell_type": "code",
   "execution_count": 2,
   "metadata": {},
   "outputs": [],
   "source": [
    "# The 'bounds' input limits the spatial domain of the weath data which is loaded into memory\n",
    "#  - given as: [low-lat, low-lon, high-lat, high-lon]\n",
    "\n",
    "src = res.weather.sources.MerraSource(res._TEST_DATA_[\"merra-like.nc4\"], bounds=[5,49,7,52], verbose=False)"
   ]
  },
  {
   "cell_type": "code",
   "execution_count": 3,
   "metadata": {},
   "outputs": [
    {
     "data": {
      "text/html": [
       "<div>\n",
       "<style scoped>\n",
       "    .dataframe tbody tr th:only-of-type {\n",
       "        vertical-align: middle;\n",
       "    }\n",
       "\n",
       "    .dataframe tbody tr th {\n",
       "        vertical-align: top;\n",
       "    }\n",
       "\n",
       "    .dataframe thead th {\n",
       "        text-align: right;\n",
       "    }\n",
       "</style>\n",
       "<table border=\"1\" class=\"dataframe\">\n",
       "  <thead>\n",
       "    <tr style=\"text-align: right;\">\n",
       "      <th></th>\n",
       "      <th>name</th>\n",
       "      <th>units</th>\n",
       "      <th>path</th>\n",
       "      <th>shape</th>\n",
       "    </tr>\n",
       "  </thead>\n",
       "  <tbody>\n",
       "    <tr>\n",
       "      <th>lon</th>\n",
       "      <td>longitude</td>\n",
       "      <td>degrees_east</td>\n",
       "      <td>c:\\users\\s.ryberg\\fzj\\repos\\res\\res\\test\\data\\...</td>\n",
       "      <td>(5,)</td>\n",
       "    </tr>\n",
       "    <tr>\n",
       "      <th>lat</th>\n",
       "      <td>latitude</td>\n",
       "      <td>degrees_north</td>\n",
       "      <td>c:\\users\\s.ryberg\\fzj\\repos\\res\\res\\test\\data\\...</td>\n",
       "      <td>(7,)</td>\n",
       "    </tr>\n",
       "    <tr>\n",
       "      <th>time</th>\n",
       "      <td>time</td>\n",
       "      <td>minutes since 2005-01-01 00:30:00</td>\n",
       "      <td>c:\\users\\s.ryberg\\fzj\\repos\\res\\res\\test\\data\\...</td>\n",
       "      <td>(744,)</td>\n",
       "    </tr>\n",
       "    <tr>\n",
       "      <th>U50M</th>\n",
       "      <td>eastward_wind_at_50_meters</td>\n",
       "      <td>m s-1</td>\n",
       "      <td>c:\\users\\s.ryberg\\fzj\\repos\\res\\res\\test\\data\\...</td>\n",
       "      <td>(744, 7, 5)</td>\n",
       "    </tr>\n",
       "    <tr>\n",
       "      <th>V50M</th>\n",
       "      <td>northward_wind_at_50_meters</td>\n",
       "      <td>m s-1</td>\n",
       "      <td>c:\\users\\s.ryberg\\fzj\\repos\\res\\res\\test\\data\\...</td>\n",
       "      <td>(744, 7, 5)</td>\n",
       "    </tr>\n",
       "  </tbody>\n",
       "</table>\n",
       "</div>"
      ],
      "text/plain": [
       "                             name                              units  \\\n",
       "lon                     longitude                       degrees_east   \n",
       "lat                      latitude                      degrees_north   \n",
       "time                         time  minutes since 2005-01-01 00:30:00   \n",
       "U50M   eastward_wind_at_50_meters                              m s-1   \n",
       "V50M  northward_wind_at_50_meters                              m s-1   \n",
       "\n",
       "                                                   path        shape  \n",
       "lon   c:\\users\\s.ryberg\\fzj\\repos\\res\\res\\test\\data\\...         (5,)  \n",
       "lat   c:\\users\\s.ryberg\\fzj\\repos\\res\\res\\test\\data\\...         (7,)  \n",
       "time  c:\\users\\s.ryberg\\fzj\\repos\\res\\res\\test\\data\\...       (744,)  \n",
       "U50M  c:\\users\\s.ryberg\\fzj\\repos\\res\\res\\test\\data\\...  (744, 7, 5)  \n",
       "V50M  c:\\users\\s.ryberg\\fzj\\repos\\res\\res\\test\\data\\...  (744, 7, 5)  "
      ]
     },
     "execution_count": 3,
     "metadata": {},
     "output_type": "execute_result"
    }
   ],
   "source": [
    "# See all of the variables in this file...\n",
    "src.variables"
   ]
  },
  {
   "cell_type": "code",
   "execution_count": 4,
   "metadata": {},
   "outputs": [
    {
     "data": {
      "text/plain": [
       "masked_array(data=[49. , 49.5, 50. , 50.5, 51. , 51.5],\n",
       "             mask=False,\n",
       "       fill_value=1e+20)"
      ]
     },
     "execution_count": 4,
     "metadata": {},
     "output_type": "execute_result"
    }
   ],
   "source": [
    "src.lats"
   ]
  },
  {
   "cell_type": "markdown",
   "metadata": {},
   "source": [
    "# Preload the data in this region"
   ]
  },
  {
   "cell_type": "code",
   "execution_count": 5,
   "metadata": {},
   "outputs": [],
   "source": [
    "# Load a specific variable\n",
    "src.load(\"U50M\", name=\"wind_speed\")"
   ]
  },
  {
   "cell_type": "markdown",
   "metadata": {},
   "source": [
    "# Get the time series for a specific location"
   ]
  },
  {
   "cell_type": "code",
   "execution_count": 6,
   "metadata": {},
   "outputs": [
    {
     "data": {
      "text/plain": [
       "2005-01-01 00:30:00.000013+00:00    7.735280\n",
       "2005-01-01 01:30:00+00:00           7.563424\n",
       "2005-01-01 02:30:00.000026+00:00    7.204922\n",
       "2005-01-01 03:30:00.000013+00:00    6.498482\n",
       "2005-01-01 04:30:00+00:00           5.662754\n",
       "Name: (6.00000,50.00000), dtype: float32"
      ]
     },
     "execution_count": 6,
     "metadata": {},
     "output_type": "execute_result"
    }
   ],
   "source": [
    "# Get a time series for a single location\n",
    "# Locations are given as (Lon, lat)\n",
    "t = src.get( \"wind_speed\", locations = (6.,50.) )\n",
    "\n",
    "t.head()"
   ]
  },
  {
   "cell_type": "code",
   "execution_count": 7,
   "metadata": {},
   "outputs": [
    {
     "data": {
      "text/html": [
       "<div>\n",
       "<style scoped>\n",
       "    .dataframe tbody tr th:only-of-type {\n",
       "        vertical-align: middle;\n",
       "    }\n",
       "\n",
       "    .dataframe tbody tr th {\n",
       "        vertical-align: top;\n",
       "    }\n",
       "\n",
       "    .dataframe thead th {\n",
       "        text-align: right;\n",
       "    }\n",
       "</style>\n",
       "<table border=\"1\" class=\"dataframe\">\n",
       "  <thead>\n",
       "    <tr style=\"text-align: right;\">\n",
       "      <th></th>\n",
       "      <th>(5.50000,50.00000)</th>\n",
       "      <th>(6.00000,50.00000)</th>\n",
       "      <th>(6.70000,50.00000)</th>\n",
       "    </tr>\n",
       "  </thead>\n",
       "  <tbody>\n",
       "    <tr>\n",
       "      <th>2005-01-01 00:30:00.000013+00:00</th>\n",
       "      <td>7.252858</td>\n",
       "      <td>7.735280</td>\n",
       "      <td>7.928639</td>\n",
       "    </tr>\n",
       "    <tr>\n",
       "      <th>2005-01-01 01:30:00+00:00</th>\n",
       "      <td>7.008737</td>\n",
       "      <td>7.563424</td>\n",
       "      <td>7.864205</td>\n",
       "    </tr>\n",
       "    <tr>\n",
       "      <th>2005-01-01 02:30:00.000026+00:00</th>\n",
       "      <td>6.554531</td>\n",
       "      <td>7.204922</td>\n",
       "      <td>7.599453</td>\n",
       "    </tr>\n",
       "    <tr>\n",
       "      <th>2005-01-01 03:30:00.000013+00:00</th>\n",
       "      <td>5.865670</td>\n",
       "      <td>6.498482</td>\n",
       "      <td>6.939888</td>\n",
       "    </tr>\n",
       "    <tr>\n",
       "      <th>2005-01-01 04:30:00+00:00</th>\n",
       "      <td>5.110020</td>\n",
       "      <td>5.662754</td>\n",
       "      <td>6.092442</td>\n",
       "    </tr>\n",
       "  </tbody>\n",
       "</table>\n",
       "</div>"
      ],
      "text/plain": [
       "                                  (5.50000,50.00000)  (6.00000,50.00000)  \\\n",
       "2005-01-01 00:30:00.000013+00:00            7.252858            7.735280   \n",
       "2005-01-01 01:30:00+00:00                   7.008737            7.563424   \n",
       "2005-01-01 02:30:00.000026+00:00            6.554531            7.204922   \n",
       "2005-01-01 03:30:00.000013+00:00            5.865670            6.498482   \n",
       "2005-01-01 04:30:00+00:00                   5.110020            5.662754   \n",
       "\n",
       "                                  (6.70000,50.00000)  \n",
       "2005-01-01 00:30:00.000013+00:00            7.928639  \n",
       "2005-01-01 01:30:00+00:00                   7.864205  \n",
       "2005-01-01 02:30:00.000026+00:00            7.599453  \n",
       "2005-01-01 03:30:00.000013+00:00            6.939888  \n",
       "2005-01-01 04:30:00+00:00                   6.092442  "
      ]
     },
     "execution_count": 7,
     "metadata": {},
     "output_type": "execute_result"
    }
   ],
   "source": [
    "# Get a time series for multiple locations\n",
    "t = src.get( \"wind_speed\", locations = [(5.5,50.), (6.0,50.), (6.7,50.)])\n",
    "\n",
    "t.head()"
   ]
  },
  {
   "cell_type": "code",
   "execution_count": 8,
   "metadata": {},
   "outputs": [
    {
     "data": {
      "text/plain": [
       "2005-01-01 00:30:00.000013+00:00    7.542311\n",
       "2005-01-01 01:30:00+00:00           7.341549\n",
       "2005-01-01 02:30:00.000026+00:00    6.944765\n",
       "2005-01-01 03:30:00.000013+00:00    6.245357\n",
       "2005-01-01 04:30:00+00:00           5.441660\n",
       "Name: (6.00000,50.00000), dtype: float64"
      ]
     },
     "execution_count": 8,
     "metadata": {},
     "output_type": "execute_result"
    }
   ],
   "source": [
    "# Get a time series for a single location, but interpolate the surrounding MERRA points the specified location(s)\n",
    "# Options are:\n",
    "#  'bilinear' -> Uses linear interpolation. Requires the surrounding 4 index points\n",
    "#  'cubic' -> Uses cubic interpolation. Requires the surrounding 16 index points\n",
    "t = src.get( \"wind_speed\", (6.,50.), interpolation='bilinear' )\n",
    "\n",
    "t.head()"
   ]
  },
  {
   "cell_type": "code",
   "execution_count": null,
   "metadata": {
    "collapsed": true
   },
   "outputs": [],
   "source": []
  }
 ],
 "metadata": {
  "kernelspec": {
   "display_name": "Python 3",
   "language": "python",
   "name": "python3"
  },
  "language_info": {
   "codemirror_mode": {
    "name": "ipython",
    "version": 3
   },
   "file_extension": ".py",
   "mimetype": "text/x-python",
   "name": "python",
   "nbconvert_exporter": "python",
   "pygments_lexer": "ipython3",
   "version": "3.6.8"
  }
 },
 "nbformat": 4,
 "nbformat_minor": 2
}
