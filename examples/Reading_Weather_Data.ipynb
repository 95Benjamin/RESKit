{
 "cells": [
  {
   "cell_type": "code",
   "execution_count": 1,
   "metadata": {
    "collapsed": true
   },
   "outputs": [],
   "source": [
    "import res\n",
    "import geokit as gk"
   ]
  },
  {
   "cell_type": "markdown",
   "metadata": {},
   "source": [
    "# Initialize a MERRA data file"
   ]
  },
  {
   "cell_type": "code",
   "execution_count": 2,
   "metadata": {
    "collapsed": false
   },
   "outputs": [],
   "source": [
    "src = res.weather.sources.MerraSource(\"D:Data/weather/merra/full/MERRA2.tavg1_2d.2015.nc4\", bounds=gk.Extent(5,45,9,53))"
   ]
  },
  {
   "cell_type": "code",
   "execution_count": 3,
   "metadata": {
    "collapsed": false
   },
   "outputs": [
    {
     "data": {
      "text/plain": [
       "['lon',\n",
       " 'lat',\n",
       " 'time',\n",
       " 'ALBEDO',\n",
       " 'SWGDN',\n",
       " 'SWGNT',\n",
       " 'PS',\n",
       " 'QV2M',\n",
       " 'SLP',\n",
       " 'T10M',\n",
       " 'T2M',\n",
       " 'T2MDEW',\n",
       " 'T2MWET',\n",
       " 'U10M',\n",
       " 'U2M',\n",
       " 'U50M',\n",
       " 'V10M',\n",
       " 'V2M',\n",
       " 'V50M']"
      ]
     },
     "execution_count": 3,
     "metadata": {},
     "output_type": "execute_result"
    }
   ],
   "source": [
    "# See all of the variables in this file...\n",
    "src.variables"
   ]
  },
  {
   "cell_type": "markdown",
   "metadata": {},
   "source": [
    "# Preload the data in this region"
   ]
  },
  {
   "cell_type": "code",
   "execution_count": 4,
   "metadata": {
    "collapsed": true
   },
   "outputs": [],
   "source": [
    "# Load a specific variable\n",
    "src.load(\"T2M\", name=\"air_temp\")"
   ]
  },
  {
   "cell_type": "code",
   "execution_count": 5,
   "metadata": {
    "collapsed": true
   },
   "outputs": [],
   "source": [
    "# Shortcuts for loading common variables\n",
    "src.loadRadiation() # loads the 'ghi' and 'dni' variables\n",
    "src.loadWindSpeed(height=10) # loads the 'windspeed' variable at the indicated height (options are 2, 10, 50 meters)\n",
    "src.loadTemperature() # laods the 'air_temp' variable"
   ]
  },
  {
   "cell_type": "markdown",
   "metadata": {},
   "source": [
    "# Get the time series for a specific location"
   ]
  },
  {
   "cell_type": "code",
   "execution_count": 6,
   "metadata": {
    "collapsed": false
   },
   "outputs": [
    {
     "data": {
      "text/plain": [
       "2015-01-01 00:30:00+00:00    270.727661\n",
       "2015-01-01 01:30:00+00:00    270.509308\n",
       "2015-01-01 02:30:00+00:00    270.381866\n",
       "2015-01-01 03:30:00+00:00    270.231079\n",
       "2015-01-01 04:30:00+00:00    270.151154\n",
       "Name: (7.00000,50.00000), dtype: float32"
      ]
     },
     "execution_count": 6,
     "metadata": {},
     "output_type": "execute_result"
    }
   ],
   "source": [
    "# Get a time series for a single location\n",
    "t = src.get( \"air_temp\", (7.,50.) )\n",
    "\n",
    "t.head()"
   ]
  },
  {
   "cell_type": "code",
   "execution_count": 7,
   "metadata": {
    "collapsed": false
   },
   "outputs": [
    {
     "data": {
      "text/html": [
       "<div>\n",
       "<table border=\"1\" class=\"dataframe\">\n",
       "  <thead>\n",
       "    <tr style=\"text-align: right;\">\n",
       "      <th></th>\n",
       "      <th>(7.00000,50.00000)</th>\n",
       "      <th>(7.50000,50.00000)</th>\n",
       "      <th>(7.50000,50.00000)</th>\n",
       "    </tr>\n",
       "  </thead>\n",
       "  <tbody>\n",
       "    <tr>\n",
       "      <th>2015-01-01 00:30:00+00:00</th>\n",
       "      <td>270.727661</td>\n",
       "      <td>271.423950</td>\n",
       "      <td>271.423950</td>\n",
       "    </tr>\n",
       "    <tr>\n",
       "      <th>2015-01-01 01:30:00+00:00</th>\n",
       "      <td>270.509308</td>\n",
       "      <td>271.406769</td>\n",
       "      <td>271.406769</td>\n",
       "    </tr>\n",
       "    <tr>\n",
       "      <th>2015-01-01 02:30:00+00:00</th>\n",
       "      <td>270.381866</td>\n",
       "      <td>271.409210</td>\n",
       "      <td>271.409210</td>\n",
       "    </tr>\n",
       "    <tr>\n",
       "      <th>2015-01-01 03:30:00+00:00</th>\n",
       "      <td>270.231079</td>\n",
       "      <td>271.358276</td>\n",
       "      <td>271.358276</td>\n",
       "    </tr>\n",
       "    <tr>\n",
       "      <th>2015-01-01 04:30:00+00:00</th>\n",
       "      <td>270.151154</td>\n",
       "      <td>271.229279</td>\n",
       "      <td>271.229279</td>\n",
       "    </tr>\n",
       "  </tbody>\n",
       "</table>\n",
       "</div>"
      ],
      "text/plain": [
       "                           (7.00000,50.00000)  (7.50000,50.00000)  \\\n",
       "2015-01-01 00:30:00+00:00          270.727661          271.423950   \n",
       "2015-01-01 01:30:00+00:00          270.509308          271.406769   \n",
       "2015-01-01 02:30:00+00:00          270.381866          271.409210   \n",
       "2015-01-01 03:30:00+00:00          270.231079          271.358276   \n",
       "2015-01-01 04:30:00+00:00          270.151154          271.229279   \n",
       "\n",
       "                           (7.50000,50.00000)  \n",
       "2015-01-01 00:30:00+00:00          271.423950  \n",
       "2015-01-01 01:30:00+00:00          271.406769  \n",
       "2015-01-01 02:30:00+00:00          271.409210  \n",
       "2015-01-01 03:30:00+00:00          271.358276  \n",
       "2015-01-01 04:30:00+00:00          271.229279  "
      ]
     },
     "execution_count": 7,
     "metadata": {},
     "output_type": "execute_result"
    }
   ],
   "source": [
    "# Get a time series for multiple locations\n",
    "t = src.get( \"air_temp\", [(7.,50.), (7.5,50.), (7.5,50.)])\n",
    "\n",
    "t.head()"
   ]
  },
  {
   "cell_type": "code",
   "execution_count": 9,
   "metadata": {
    "collapsed": false
   },
   "outputs": [
    {
     "data": {
      "text/plain": [
       "2015-01-01 00:30:00+00:00    270.866919\n",
       "2015-01-01 01:30:00+00:00    270.688800\n",
       "2015-01-01 02:30:00+00:00    270.587335\n",
       "2015-01-01 03:30:00+00:00    270.456519\n",
       "2015-01-01 04:30:00+00:00    270.366779\n",
       "Name: (7.00000,50.00000), dtype: float64"
      ]
     },
     "execution_count": 9,
     "metadata": {},
     "output_type": "execute_result"
    }
   ],
   "source": [
    "# Get a time series for a single location, but interpolate the surrounding MERRA points the specified location(s)\n",
    "# Options are:\n",
    "#  'bilinear' -> Uses linear interpolation. Requires the surrounding 4 index points\n",
    "#  'cubic' -> Uses cubic interpolation. Requires the surrounding 16 index points\n",
    "t = src.get( \"air_temp\", (7.,50.), interpolation='bilinear' )\n",
    "\n",
    "t.head()"
   ]
  },
  {
   "cell_type": "code",
   "execution_count": null,
   "metadata": {
    "collapsed": true
   },
   "outputs": [],
   "source": []
  }
 ],
 "metadata": {
  "kernelspec": {
   "display_name": "Python [default]",
   "language": "python",
   "name": "python3"
  },
  "language_info": {
   "codemirror_mode": {
    "name": "ipython",
    "version": 3
   },
   "file_extension": ".py",
   "mimetype": "text/x-python",
   "name": "python",
   "nbconvert_exporter": "python",
   "pygments_lexer": "ipython3",
   "version": "3.4.5"
  }
 },
 "nbformat": 4,
 "nbformat_minor": 2
}
