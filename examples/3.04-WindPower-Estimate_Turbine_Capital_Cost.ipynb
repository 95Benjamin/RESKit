{
 "cells": [
  {
   "cell_type": "markdown",
   "metadata": {},
   "source": [
    "# Estimate Turbine Capital Cost\n",
    "\n",
    "* RESKit can suggest a turbine capital cost based on turbie and site characteristics\n",
    "    * Cost values are intended for a far future context (~2050)\n",
    "* For onshore turbines: Capacity, hub height, and rotor diameter are considered \n",
    "* For offshore turbines: Capacity, hub height, rotor diameter, distance from shore, sea depth, and foundation are considered "
   ]
  },
  {
   "cell_type": "code",
   "execution_count": 1,
   "metadata": {},
   "outputs": [],
   "source": [
    "from reskit import windpower"
   ]
  },
  {
   "cell_type": "code",
   "execution_count": 2,
   "metadata": {},
   "outputs": [
    {
     "name": "stdout",
     "output_type": "stream",
     "text": [
      "Estimated capital cost is 4,620,000 € (1100€ /kW)\n"
     ]
    }
   ],
   "source": [
    "# Get onshore capex for one location\n",
    "capex = windpower.onshoreTurbineCost(capacity=4200, # Assume 4.2 MW nameplete capacity\n",
    "                                     rotordiam=136, # Assume 136 meter rotor diameter\n",
    "                                     hubHeight=120, # Assume 125 meter hub height\n",
    "                                    )\n",
    "\n",
    "\n",
    "print(\"Estimated capital cost is {:,.0f} € ({:.0f}€ /kW)\".format( capex, capex/4200 ) )"
   ]
  },
  {
   "cell_type": "code",
   "execution_count": 3,
   "metadata": {},
   "outputs": [
    {
     "data": {
      "text/plain": [
       "array([4620000.        , 4310088.0555251 , 4434952.68445882,\n",
       "       4327065.82780477, 4360843.31337947, 4325658.37372616,\n",
       "       4324108.1517855 , 4366916.4312893 , 4534069.263737  ,\n",
       "       4386226.91002757])"
      ]
     },
     "execution_count": 3,
     "metadata": {},
     "output_type": "execute_result"
    }
   ],
   "source": [
    "# Get onshore capex for one location\n",
    "capexs = windpower.onshoreTurbineCost(capacity=[4200,3325,3836,3451,3604,3439,3447,3631,4039,3684,],\n",
    "                                      rotordiam=[136,136,136,136,136,136,136,136,136,136,],\n",
    "                                      hubHeight=[120,174,138,164,153,165,164,151,128,148,],\n",
    "                                     )\n",
    "\n",
    "capexs"
   ]
  },
  {
   "cell_type": "code",
   "execution_count": 4,
   "metadata": {},
   "outputs": [
    {
     "name": "stdout",
     "output_type": "stream",
     "text": [
      "Estimated capital cost is 16,745,973 € (2093€ /kW)\n"
     ]
    }
   ],
   "source": [
    "# Get offshore capex for one location\n",
    "capex = windpower.offshoreTurbineCost(capacity=8000, # Assume 4.2 MW nameplete capacity\n",
    "                                      rotordiam=150, # Assume 136 meter rotor diameter\n",
    "                                      hubHeight=110, # Assume 125 meter hub height\n",
    "                                      depth=75,      # Assume depth of 75 m\n",
    "                                      distanceToShore=30, # Assume a shore sitance of 30 km\n",
    "                                      foundation=\"monopile\"\n",
    "                                     )\n",
    "\n",
    "\n",
    "print(\"Estimated capital cost is {:,.0f} € ({:.0f}€ /kW)\".format( capex, capex/8000 ) )"
   ]
  },
  {
   "cell_type": "code",
   "execution_count": null,
   "metadata": {},
   "outputs": [],
   "source": []
  }
 ],
 "metadata": {
  "kernelspec": {
   "display_name": "Python 3",
   "language": "python",
   "name": "python3"
  },
  "language_info": {
   "codemirror_mode": {
    "name": "ipython",
    "version": 3
   },
   "file_extension": ".py",
   "mimetype": "text/x-python",
   "name": "python",
   "nbconvert_exporter": "python",
   "pygments_lexer": "ipython3",
   "version": "3.6.8"
  }
 },
 "nbformat": 4,
 "nbformat_minor": 2
}
