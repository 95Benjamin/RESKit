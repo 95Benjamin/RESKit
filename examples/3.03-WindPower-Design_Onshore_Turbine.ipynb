{
 "cells": [
  {
   "cell_type": "markdown",
   "metadata": {},
   "source": [
    "# Suggest Onshore Wind Turbine \n",
    "\n",
    "* RESKit can suggest a turbine design based off site conditions (average 100m wind speed)\n",
    "* Suggestions are tailored to a far future context (~2050)\n",
    "* Since the suggestion model computes a specific capacity, a desired rotor diameter must be specified"
   ]
  },
  {
   "cell_type": "code",
   "execution_count": 1,
   "metadata": {},
   "outputs": [],
   "source": [
    "from reskit import windpower"
   ]
  },
  {
   "cell_type": "code",
   "execution_count": 2,
   "metadata": {},
   "outputs": [
    {
     "name": "stdout",
     "output_type": "stream",
     "text": [
      "Suggested capacity is 4200 kW\n",
      "Suggested hub height is 120 meters\n",
      "Suggested rotor diamter is 136 meters\n",
      "Suggested specific capacity is 289 W/m2\n"
     ]
    }
   ],
   "source": [
    "# Get suggestion for one location\n",
    "design = windpower.suggestOnshoreTurbine(averageWindspeed=6.70, # Assume average 100m wind speed is 6.70 m/s\n",
    "                                         rotordiam=136 )\n",
    "\n",
    "\n",
    "print(\"Suggested capacity is {:.0f} kW\".format( design['capacity'] ) )\n",
    "print(\"Suggested hub height is {:.0f} meters\".format( design['hubHeight'] ) )\n",
    "print(\"Suggested rotor diamter is {:.0f} meters\".format( design['rotordiam'] ) )\n",
    "print(\"Suggested specific capacity is {:.0f} W/m2\".format( design['specificPower'] ) )"
   ]
  },
  {
   "cell_type": "code",
   "execution_count": 3,
   "metadata": {},
   "outputs": [
    {
     "name": "stdout",
     "output_type": "stream",
     "text": [
      "   capacity  hubHeight  rotordiam  specificPower\n",
      "0    4200.0      120.0        136          289.0\n",
      "1    3325.0      174.0        136          229.0\n",
      "2    3836.0      138.0        136          264.0\n",
      "3    3451.0      164.0        136          238.0\n",
      "4    3604.0      153.0        136          248.0\n",
      "5    3439.0      165.0        136          237.0\n",
      "6    3447.0      164.0        136          237.0\n",
      "7    3631.0      151.0        136          250.0\n",
      "8    4039.0      128.0        136          278.0\n",
      "9    3684.0      148.0        136          254.0\n"
     ]
    }
   ],
   "source": [
    "# Get suggestion for many location\n",
    "designs = windpower.suggestOnshoreTurbine(averageWindspeed=[6.70,4.34,5.66,4.65,5.04,4.62,4.64,5.11,6.23,5.25,],\n",
    "                                          rotordiam=136 )\n",
    "\n",
    "print(designs.round())"
   ]
  },
  {
   "cell_type": "code",
   "execution_count": 6,
   "metadata": {},
   "outputs": [
    {
     "data": {
      "text/plain": [
       "0    136\n",
       "1    136\n",
       "2    136\n",
       "3    136\n",
       "4    136\n",
       "5    136\n",
       "6    136\n",
       "7    136\n",
       "8    136\n",
       "9    136\n",
       "Name: rotordiam, dtype: int32"
      ]
     },
     "execution_count": 6,
     "metadata": {},
     "output_type": "execute_result"
    }
   ],
   "source": [
    "designs.round().rotordiam"
   ]
  },
  {
   "cell_type": "code",
   "execution_count": null,
   "metadata": {},
   "outputs": [],
   "source": [
    "136,136,136,136,136,136,136,136,136,136,"
   ]
  }
 ],
 "metadata": {
  "kernelspec": {
   "display_name": "Python 3",
   "language": "python",
   "name": "python3"
  },
  "language_info": {
   "codemirror_mode": {
    "name": "ipython",
    "version": 3
   },
   "file_extension": ".py",
   "mimetype": "text/x-python",
   "name": "python",
   "nbconvert_exporter": "python",
   "pygments_lexer": "ipython3",
   "version": "3.6.8"
  }
 },
 "nbformat": 4,
 "nbformat_minor": 2
}
