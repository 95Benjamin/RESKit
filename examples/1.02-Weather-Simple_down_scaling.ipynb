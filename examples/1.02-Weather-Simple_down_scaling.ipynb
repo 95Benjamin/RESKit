{
 "cells": [
  {
   "cell_type": "code",
   "execution_count": 1,
   "metadata": {},
   "outputs": [],
   "source": [
    "import reskit as rk"
   ]
  },
  {
   "cell_type": "markdown",
   "metadata": {},
   "source": [
    "# Simple Down Scaling\n",
    "\n",
    "* RESKit will downscale low-spatial resolution weather data to a higher spatial resolution using a simplistic 'long run average' approach\n",
    "* When downscaling wind speeds, comparisons are made against the Global Wind Atlas (1 km resolution)\n",
    "* When downscaling irradiance values, comparisons are made against the Global Solar Atlas (1 km resolution)"
   ]
  },
  {
   "cell_type": "code",
   "execution_count": 2,
   "metadata": {},
   "outputs": [],
   "source": [
    "# Create a weather source, and load data\n",
    "src = rk.weather.sources.MerraSource(rk._TEST_DATA_[\"weather_data\"], bounds=[5,49,7,52], verbose=False)\n",
    "src.loadWindSpeed()"
   ]
  },
  {
   "cell_type": "markdown",
   "metadata": {},
   "source": [
    "# Get an adjusted time series for a specific location"
   ]
  },
  {
   "cell_type": "code",
   "execution_count": 3,
   "metadata": {},
   "outputs": [],
   "source": [
    "# Extract raw wind speed and GHI data\n",
    "location = (6.0,50.5)\n",
    "\n",
    "windspeeds = src.get(\"windspeed\", locations=location)"
   ]
  },
  {
   "cell_type": "code",
   "execution_count": 5,
   "metadata": {},
   "outputs": [
    {
     "data": {
      "text/plain": [
       "2015-01-01 00:30:00.000013+00:00    3.742758\n",
       "2015-01-01 01:30:00+00:00           3.651281\n",
       "2015-01-01 02:30:00.000026+00:00    3.539215\n",
       "2015-01-01 03:30:00.000013+00:00    3.453292\n",
       "2015-01-01 04:30:00+00:00           3.603335\n",
       "Name: (6.00000,50.50000), dtype: float32"
      ]
     },
     "execution_count": 5,
     "metadata": {},
     "output_type": "execute_result"
    }
   ],
   "source": [
    "# \"rk._TEST_DATA_['gwa50-like.tif']\" points to a local Gobal Wind Atlas file, this will need to be downloaded \n",
    "#   by the user for production use\n",
    "#   - It is important to keep in mind the height-context of the weather data in relation to glabal wind atlas \n",
    "#     data (offered at 50m or 100m)\n",
    "#\n",
    "# \"src.LONG_RUN_AVERAGE_50M_SOURCE\" points to a raster file with the average wind speed value in each cell of a weather dataset\n",
    "#   - This must be pre-computed\n",
    "#   - For the MERRA2 data set over Europe, a raster file is automatically included. If you would like to use a different dataset \n",
    "#     or a different regional scope, you will need to compute this yourself\n",
    "\n",
    "adjusted_wind_speeds = rk.weather.windutil.adjustLraToGwa(windspeeds, location, \n",
    "                                                          gwa=rk._TEST_DATA_['gwa50-like.tif'], \n",
    "                                                          longRunAverage=src.LONG_RUN_AVERAGE_50M_SOURCE)\n",
    "adjusted_wind_speeds.head()"
   ]
  },
  {
   "cell_type": "markdown",
   "metadata": {},
   "source": [
    "# Get adjusted time series for multiple locations"
   ]
  },
  {
   "cell_type": "code",
   "execution_count": 6,
   "metadata": {},
   "outputs": [
    {
     "data": {
      "text/html": [
       "<div>\n",
       "<style scoped>\n",
       "    .dataframe tbody tr th:only-of-type {\n",
       "        vertical-align: middle;\n",
       "    }\n",
       "\n",
       "    .dataframe tbody tr th {\n",
       "        vertical-align: top;\n",
       "    }\n",
       "\n",
       "    .dataframe thead th {\n",
       "        text-align: right;\n",
       "    }\n",
       "</style>\n",
       "<table border=\"1\" class=\"dataframe\">\n",
       "  <thead>\n",
       "    <tr style=\"text-align: right;\">\n",
       "      <th></th>\n",
       "      <th>(6.25000,51.00000)</th>\n",
       "      <th>(6.50000,51.00000)</th>\n",
       "      <th>(6.25000,50.75000)</th>\n",
       "    </tr>\n",
       "  </thead>\n",
       "  <tbody>\n",
       "    <tr>\n",
       "      <th>2015-01-01 00:30:00.000013+00:00</th>\n",
       "      <td>6.117667</td>\n",
       "      <td>6.117667</td>\n",
       "      <td>6.117667</td>\n",
       "    </tr>\n",
       "    <tr>\n",
       "      <th>2015-01-01 01:30:00+00:00</th>\n",
       "      <td>6.147689</td>\n",
       "      <td>6.147689</td>\n",
       "      <td>6.147689</td>\n",
       "    </tr>\n",
       "    <tr>\n",
       "      <th>2015-01-01 02:30:00.000026+00:00</th>\n",
       "      <td>6.101908</td>\n",
       "      <td>6.101908</td>\n",
       "      <td>6.101908</td>\n",
       "    </tr>\n",
       "    <tr>\n",
       "      <th>2015-01-01 03:30:00.000013+00:00</th>\n",
       "      <td>5.905268</td>\n",
       "      <td>5.905268</td>\n",
       "      <td>5.905268</td>\n",
       "    </tr>\n",
       "    <tr>\n",
       "      <th>2015-01-01 04:30:00+00:00</th>\n",
       "      <td>5.990820</td>\n",
       "      <td>5.990820</td>\n",
       "      <td>5.990820</td>\n",
       "    </tr>\n",
       "  </tbody>\n",
       "</table>\n",
       "</div>"
      ],
      "text/plain": [
       "                                  (6.25000,51.00000)  (6.50000,51.00000)  \\\n",
       "2015-01-01 00:30:00.000013+00:00            6.117667            6.117667   \n",
       "2015-01-01 01:30:00+00:00                   6.147689            6.147689   \n",
       "2015-01-01 02:30:00.000026+00:00            6.101908            6.101908   \n",
       "2015-01-01 03:30:00.000013+00:00            5.905268            5.905268   \n",
       "2015-01-01 04:30:00+00:00                   5.990820            5.990820   \n",
       "\n",
       "                                  (6.25000,50.75000)  \n",
       "2015-01-01 00:30:00.000013+00:00            6.117667  \n",
       "2015-01-01 01:30:00+00:00                   6.147689  \n",
       "2015-01-01 02:30:00.000026+00:00            6.101908  \n",
       "2015-01-01 03:30:00.000013+00:00            5.905268  \n",
       "2015-01-01 04:30:00+00:00                   5.990820  "
      ]
     },
     "execution_count": 6,
     "metadata": {},
     "output_type": "execute_result"
    }
   ],
   "source": [
    "# Extract raw wind speed and GHI data\n",
    "locations = [(6.25,51.), (6.50,51.), (6.25,50.75)]\n",
    "\n",
    "windspeeds = src.get(\"windspeed\", locations=locations)\n",
    "\n",
    "windspeeds.head()"
   ]
  },
  {
   "cell_type": "code",
   "execution_count": 7,
   "metadata": {},
   "outputs": [
    {
     "data": {
      "text/html": [
       "<div>\n",
       "<style scoped>\n",
       "    .dataframe tbody tr th:only-of-type {\n",
       "        vertical-align: middle;\n",
       "    }\n",
       "\n",
       "    .dataframe tbody tr th {\n",
       "        vertical-align: top;\n",
       "    }\n",
       "\n",
       "    .dataframe thead th {\n",
       "        text-align: right;\n",
       "    }\n",
       "</style>\n",
       "<table border=\"1\" class=\"dataframe\">\n",
       "  <thead>\n",
       "    <tr style=\"text-align: right;\">\n",
       "      <th></th>\n",
       "      <th>(6.25000,51.00000)</th>\n",
       "      <th>(6.50000,51.00000)</th>\n",
       "      <th>(6.25000,50.75000)</th>\n",
       "    </tr>\n",
       "  </thead>\n",
       "  <tbody>\n",
       "    <tr>\n",
       "      <th>2015-01-01 00:30:00.000013+00:00</th>\n",
       "      <td>4.851627</td>\n",
       "      <td>4.991501</td>\n",
       "      <td>3.720944</td>\n",
       "    </tr>\n",
       "    <tr>\n",
       "      <th>2015-01-01 01:30:00+00:00</th>\n",
       "      <td>4.875437</td>\n",
       "      <td>5.015997</td>\n",
       "      <td>3.739205</td>\n",
       "    </tr>\n",
       "    <tr>\n",
       "      <th>2015-01-01 02:30:00.000026+00:00</th>\n",
       "      <td>4.839130</td>\n",
       "      <td>4.978643</td>\n",
       "      <td>3.711359</td>\n",
       "    </tr>\n",
       "    <tr>\n",
       "      <th>2015-01-01 03:30:00.000013+00:00</th>\n",
       "      <td>4.683184</td>\n",
       "      <td>4.818202</td>\n",
       "      <td>3.591757</td>\n",
       "    </tr>\n",
       "    <tr>\n",
       "      <th>2015-01-01 04:30:00+00:00</th>\n",
       "      <td>4.751032</td>\n",
       "      <td>4.888006</td>\n",
       "      <td>3.643792</td>\n",
       "    </tr>\n",
       "  </tbody>\n",
       "</table>\n",
       "</div>"
      ],
      "text/plain": [
       "                                  (6.25000,51.00000)  (6.50000,51.00000)  \\\n",
       "2015-01-01 00:30:00.000013+00:00            4.851627            4.991501   \n",
       "2015-01-01 01:30:00+00:00                   4.875437            5.015997   \n",
       "2015-01-01 02:30:00.000026+00:00            4.839130            4.978643   \n",
       "2015-01-01 03:30:00.000013+00:00            4.683184            4.818202   \n",
       "2015-01-01 04:30:00+00:00                   4.751032            4.888006   \n",
       "\n",
       "                                  (6.25000,50.75000)  \n",
       "2015-01-01 00:30:00.000013+00:00            3.720944  \n",
       "2015-01-01 01:30:00+00:00                   3.739205  \n",
       "2015-01-01 02:30:00.000026+00:00            3.711359  \n",
       "2015-01-01 03:30:00.000013+00:00            3.591757  \n",
       "2015-01-01 04:30:00+00:00                   3.643792  "
      ]
     },
     "execution_count": 7,
     "metadata": {},
     "output_type": "execute_result"
    }
   ],
   "source": [
    "adjusted_wind_speeds = rk.weather.windutil.adjustLraToGwa(windspeeds, locations, \n",
    "                                                          gwa=rk._TEST_DATA_['gwa50-like.tif'], \n",
    "                                                          longRunAverage=src.LONG_RUN_AVERAGE_50M_SOURCE)\n",
    "adjusted_wind_speeds.head()"
   ]
  },
  {
   "cell_type": "markdown",
   "metadata": {},
   "source": [
    "# Employ a 'bl-linear' interpolation scheme"
   ]
  },
  {
   "cell_type": "code",
   "execution_count": 8,
   "metadata": {},
   "outputs": [
    {
     "data": {
      "text/html": [
       "<div>\n",
       "<style scoped>\n",
       "    .dataframe tbody tr th:only-of-type {\n",
       "        vertical-align: middle;\n",
       "    }\n",
       "\n",
       "    .dataframe tbody tr th {\n",
       "        vertical-align: top;\n",
       "    }\n",
       "\n",
       "    .dataframe thead th {\n",
       "        text-align: right;\n",
       "    }\n",
       "</style>\n",
       "<table border=\"1\" class=\"dataframe\">\n",
       "  <thead>\n",
       "    <tr style=\"text-align: right;\">\n",
       "      <th></th>\n",
       "      <th>(6.25000,51.00000)</th>\n",
       "      <th>(6.50000,51.00000)</th>\n",
       "      <th>(6.25000,50.75000)</th>\n",
       "    </tr>\n",
       "  </thead>\n",
       "  <tbody>\n",
       "    <tr>\n",
       "      <th>2015-01-01 00:30:00.000013+00:00</th>\n",
       "      <td>6.117667</td>\n",
       "      <td>5.675237</td>\n",
       "      <td>5.787824</td>\n",
       "    </tr>\n",
       "    <tr>\n",
       "      <th>2015-01-01 01:30:00+00:00</th>\n",
       "      <td>6.147689</td>\n",
       "      <td>5.675423</td>\n",
       "      <td>5.736136</td>\n",
       "    </tr>\n",
       "    <tr>\n",
       "      <th>2015-01-01 02:30:00.000026+00:00</th>\n",
       "      <td>6.101908</td>\n",
       "      <td>5.648852</td>\n",
       "      <td>5.631533</td>\n",
       "    </tr>\n",
       "    <tr>\n",
       "      <th>2015-01-01 03:30:00.000013+00:00</th>\n",
       "      <td>5.905268</td>\n",
       "      <td>5.506286</td>\n",
       "      <td>5.470564</td>\n",
       "    </tr>\n",
       "    <tr>\n",
       "      <th>2015-01-01 04:30:00+00:00</th>\n",
       "      <td>5.990820</td>\n",
       "      <td>5.626991</td>\n",
       "      <td>5.622742</td>\n",
       "    </tr>\n",
       "  </tbody>\n",
       "</table>\n",
       "</div>"
      ],
      "text/plain": [
       "                                  (6.25000,51.00000)  (6.50000,51.00000)  \\\n",
       "2015-01-01 00:30:00.000013+00:00            6.117667            5.675237   \n",
       "2015-01-01 01:30:00+00:00                   6.147689            5.675423   \n",
       "2015-01-01 02:30:00.000026+00:00            6.101908            5.648852   \n",
       "2015-01-01 03:30:00.000013+00:00            5.905268            5.506286   \n",
       "2015-01-01 04:30:00+00:00                   5.990820            5.626991   \n",
       "\n",
       "                                  (6.25000,50.75000)  \n",
       "2015-01-01 00:30:00.000013+00:00            5.787824  \n",
       "2015-01-01 01:30:00+00:00                   5.736136  \n",
       "2015-01-01 02:30:00.000026+00:00            5.631533  \n",
       "2015-01-01 03:30:00.000013+00:00            5.470564  \n",
       "2015-01-01 04:30:00+00:00                   5.622742  "
      ]
     },
     "execution_count": 8,
     "metadata": {},
     "output_type": "execute_result"
    }
   ],
   "source": [
    "# using a bilienar interpolation scheme will create a smoother outcome (geospatially-speaking)\n",
    "# Extract raw wind speed and GHI data\n",
    "locations = [(6.25,51.), (6.50,51.), (6.25,50.75)]\n",
    "\n",
    "windspeeds = src.get(\"windspeed\", locations=locations, interpolation=\"bilinear\")\n",
    "\n",
    "windspeeds.head()"
   ]
  },
  {
   "cell_type": "code",
   "execution_count": 9,
   "metadata": {},
   "outputs": [
    {
     "data": {
      "text/html": [
       "<div>\n",
       "<style scoped>\n",
       "    .dataframe tbody tr th:only-of-type {\n",
       "        vertical-align: middle;\n",
       "    }\n",
       "\n",
       "    .dataframe tbody tr th {\n",
       "        vertical-align: top;\n",
       "    }\n",
       "\n",
       "    .dataframe thead th {\n",
       "        text-align: right;\n",
       "    }\n",
       "</style>\n",
       "<table border=\"1\" class=\"dataframe\">\n",
       "  <thead>\n",
       "    <tr style=\"text-align: right;\">\n",
       "      <th></th>\n",
       "      <th>(6.25000,51.00000)</th>\n",
       "      <th>(6.50000,51.00000)</th>\n",
       "      <th>(6.25000,50.75000)</th>\n",
       "    </tr>\n",
       "  </thead>\n",
       "  <tbody>\n",
       "    <tr>\n",
       "      <th>2015-01-01 00:30:00.000013+00:00</th>\n",
       "      <td>4.851628</td>\n",
       "      <td>4.630516</td>\n",
       "      <td>3.520324</td>\n",
       "    </tr>\n",
       "    <tr>\n",
       "      <th>2015-01-01 01:30:00+00:00</th>\n",
       "      <td>4.875437</td>\n",
       "      <td>4.630668</td>\n",
       "      <td>3.488886</td>\n",
       "    </tr>\n",
       "    <tr>\n",
       "      <th>2015-01-01 02:30:00.000026+00:00</th>\n",
       "      <td>4.839130</td>\n",
       "      <td>4.608988</td>\n",
       "      <td>3.425264</td>\n",
       "    </tr>\n",
       "    <tr>\n",
       "      <th>2015-01-01 03:30:00.000013+00:00</th>\n",
       "      <td>4.683184</td>\n",
       "      <td>4.492666</td>\n",
       "      <td>3.327357</td>\n",
       "    </tr>\n",
       "    <tr>\n",
       "      <th>2015-01-01 04:30:00+00:00</th>\n",
       "      <td>4.751032</td>\n",
       "      <td>4.591151</td>\n",
       "      <td>3.419916</td>\n",
       "    </tr>\n",
       "  </tbody>\n",
       "</table>\n",
       "</div>"
      ],
      "text/plain": [
       "                                  (6.25000,51.00000)  (6.50000,51.00000)  \\\n",
       "2015-01-01 00:30:00.000013+00:00            4.851628            4.630516   \n",
       "2015-01-01 01:30:00+00:00                   4.875437            4.630668   \n",
       "2015-01-01 02:30:00.000026+00:00            4.839130            4.608988   \n",
       "2015-01-01 03:30:00.000013+00:00            4.683184            4.492666   \n",
       "2015-01-01 04:30:00+00:00                   4.751032            4.591151   \n",
       "\n",
       "                                  (6.25000,50.75000)  \n",
       "2015-01-01 00:30:00.000013+00:00            3.520324  \n",
       "2015-01-01 01:30:00+00:00                   3.488886  \n",
       "2015-01-01 02:30:00.000026+00:00            3.425264  \n",
       "2015-01-01 03:30:00.000013+00:00            3.327357  \n",
       "2015-01-01 04:30:00+00:00                   3.419916  "
      ]
     },
     "execution_count": 9,
     "metadata": {},
     "output_type": "execute_result"
    }
   ],
   "source": [
    "adjusted_wind_speeds = rk.weather.windutil.adjustLraToGwa(windspeeds, locations, interpolation=\"bilinear\",\n",
    "                                                          gwa=rk._TEST_DATA_['gwa50-like.tif'], \n",
    "                                                          longRunAverage=src.LONG_RUN_AVERAGE_50M_SOURCE)\n",
    "adjusted_wind_speeds.head()"
   ]
  },
  {
   "cell_type": "code",
   "execution_count": null,
   "metadata": {},
   "outputs": [],
   "source": []
  },
  {
   "cell_type": "code",
   "execution_count": null,
   "metadata": {},
   "outputs": [],
   "source": []
  },
  {
   "cell_type": "code",
   "execution_count": null,
   "metadata": {},
   "outputs": [],
   "source": []
  }
 ],
 "metadata": {
  "kernelspec": {
   "display_name": "Python 3",
   "language": "python",
   "name": "python3"
  },
  "language_info": {
   "codemirror_mode": {
    "name": "ipython",
    "version": 3
   },
   "file_extension": ".py",
   "mimetype": "text/x-python",
   "name": "python",
   "nbconvert_exporter": "python",
   "pygments_lexer": "ipython3",
   "version": "3.6.8"
  }
 },
 "nbformat": 4,
 "nbformat_minor": 2
}
