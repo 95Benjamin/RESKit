{
 "cells": [
  {
   "cell_type": "code",
   "execution_count": null,
   "metadata": {
    "collapsed": false
   },
   "outputs": [],
   "source": [
    "import geokit as gk\n",
    "from res.workflow import windProductionFromMerraSource\n",
    "from res.production import wind\n",
    "import pandas as pd\n",
    "import numpy as np\n",
    "\n",
    "import matplotlib.pyplot as plt\n",
    "%matplotlib inline"
   ]
  },
  {
   "cell_type": "markdown",
   "metadata": {},
   "source": [
    "---\n",
    "# Set data paths & constants"
   ]
  },
  {
   "cell_type": "code",
   "execution_count": null,
   "metadata": {
    "collapsed": true
   },
   "outputs": [],
   "source": [
    "MERRA_SOURCE = \"D:Data/weather/merra/slv_restructured/slv_wind_2010.nc\"\n",
    "LAND_COVER_SOURCE = \"D:Data/geography/land_cover/CLC/g100_clc12_V18_5_SRS_FIX.tif\"\n",
    "GWA_SOURCE = \"D:Data/weather/global_wind_atlas/WS_050m_global_wgs84_mean_trimmed.tif\"\n",
    "PLACEMENT_SOURCE = r\"D:\\Data\\results\\1726_LE_reference_scanrio_and_associated_turbine_placements\\placements_850\\reference_placements_850m_DNK.shp\"\n",
    "\n",
    "TURBINE = \"V136-3450\"\n",
    "HUB_HEIGHT = 82\n",
    "CF_MIN = 0.10\n",
    "\n",
    "BATCH_SIZE = 20000 # Number of turbines to simulate at once (best value depends on your pc)\n",
    "JOBS = 4 # The number of concurrent jobs"
   ]
  },
  {
   "cell_type": "markdown",
   "metadata": {},
   "source": [
    "---\n",
    "# Simply simulate all locations in a placement file"
   ]
  },
  {
   "cell_type": "code",
   "execution_count": null,
   "metadata": {
    "collapsed": false
   },
   "outputs": [],
   "source": [
    "result = windProductionFromMerraSource(PLACEMENT_SOURCE, MERRA_SOURCE, turbine=TURBINE, hubHeight=HUB_HEIGHT, \n",
    "                                       cfMin=CF_MIN, gwaSource=GWA_SOURCE, lcSource=LAND_COVER_SOURCE, \n",
    "                                       batchSize=BATCH_SIZE, jobs=JOBS)"
   ]
  },
  {
   "cell_type": "markdown",
   "metadata": {},
   "source": [
    "---\n",
    "# Filter locations before simulating"
   ]
  },
  {
   "cell_type": "code",
   "execution_count": null,
   "metadata": {
    "collapsed": false
   },
   "outputs": [],
   "source": [
    "placements = gk.vector.extractAsDataFrame(PLACEMENT_SOURCE, outputSRS=\"latlon\")"
   ]
  },
  {
   "cell_type": "code",
   "execution_count": null,
   "metadata": {
    "collapsed": false
   },
   "outputs": [],
   "source": [
    "# accessDist -> Distance from closest road\n",
    "# connDist -> Distance from closest power line\n",
    "# gwa_100m -> Average wind speed at 100 meters\n",
    "# stlmntProx' -> Distance from closest settlement\n",
    "\n",
    "placements = placements[placements[\"stlmntProx\"]>2000]"
   ]
  },
  {
   "cell_type": "code",
   "execution_count": null,
   "metadata": {
    "collapsed": false
   },
   "outputs": [],
   "source": [
    "result = windProductionFromMerraSource(placements.geom, MERRA_SOURCE, turbine=TURBINE, hubHeight=HUB_HEIGHT, \n",
    "                                       cfMin=CF_MIN, gwaSource=GWA_SOURCE, lcSource=LAND_COVER_SOURCE, \n",
    "                                       batchSize=BATCH_SIZE, jobs=JOBS)"
   ]
  },
  {
   "cell_type": "markdown",
   "metadata": {
    "collapsed": true
   },
   "source": [
    "---\n",
    "# Save result as an output file\n",
    "Options are:\n",
    "* \".shp\" -> As a shape file (only available when extracting the capacity factors\n",
    "* \".csv\" -> As a csv file\n",
    "* \".nc\"  -> As a netCDF4 file\n",
    "\n",
    "\n"
   ]
  },
  {
   "cell_type": "code",
   "execution_count": null,
   "metadata": {
    "collapsed": true
   },
   "outputs": [],
   "source": [
    "result = windProductionFromMerraSource(PLACEMENT_SOURCE, MERRA_SOURCE, turbine=TURBINE, hubHeight=HUB_HEIGHT, \n",
    "                                       cfMin=CF_MIN, gwaSource=GWA_SOURCE, lcSource=LAND_COVER_SOURCE, \n",
    "                                       batchSize=BATCH_SIZE, jobs=JOBS, output=\"test.csv\")"
   ]
  }
 ],
 "metadata": {
  "kernelspec": {
   "display_name": "Python [default]",
   "language": "python",
   "name": "python3"
  },
  "language_info": {
   "codemirror_mode": {
    "name": "ipython",
    "version": 3
   },
   "file_extension": ".py",
   "mimetype": "text/x-python",
   "name": "python",
   "nbconvert_exporter": "python",
   "pygments_lexer": "ipython3",
   "version": "3.4.5"
  }
 },
 "nbformat": 4,
 "nbformat_minor": 2
}
