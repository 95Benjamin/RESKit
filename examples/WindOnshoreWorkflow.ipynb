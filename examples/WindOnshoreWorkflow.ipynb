{
 "cells": [
  {
   "cell_type": "code",
   "execution_count": 1,
   "metadata": {
    "collapsed": false
   },
   "outputs": [],
   "source": [
    "from res.workflow import WindOnshoreWorkflow\n",
    "from res import windpower\n",
    "\n",
    "import geokit as gk\n",
    "import pandas as pd\n",
    "import numpy as np\n",
    "from os.path import join\n",
    "\n",
    "import matplotlib.pyplot as plt\n",
    "%matplotlib inline"
   ]
  },
  {
   "cell_type": "markdown",
   "metadata": {},
   "source": [
    "---\n",
    "# Set data paths & constants"
   ]
  },
  {
   "cell_type": "code",
   "execution_count": 2,
   "metadata": {
    "collapsed": true
   },
   "outputs": [],
   "source": [
    "TESTDATA = join(\"..\",\"testing\",\"data\")\n",
    "MERRA_SOURCE = join(TESTDATA,\"merra-like.nc4\")\n",
    "LAND_COVER_SOURCE = join(TESTDATA,\"clc-aachen_clipped.tif\")\n",
    "GWA_SOURCE = join(TESTDATA,\"gwa50-like.tif\")\n",
    "PLACEMENT_SOURCE = join(TESTDATA,\"turbinePlacements.shp\")\n",
    "\n",
    "TURBINE = \"V136-3450\"\n",
    "CAPACITY = 3000\n",
    "ROTORDIAM = 120\n",
    "HUB_HEIGHT = 82\n",
    "\n",
    "BATCH_SIZE = 20000 # Total number of turbines to simulate at once (best value depends on your pc)\n",
    "JOBS = 4 # The number of concurrent jobs\n",
    "VERBOSE = True # When True, progress will be printed as the function executes"
   ]
  },
  {
   "cell_type": "markdown",
   "metadata": {},
   "source": [
    "---\n",
    "# Simulate explicit locatons with a constant turbine and hub height"
   ]
  },
  {
   "cell_type": "code",
   "execution_count": 14,
   "metadata": {
    "collapsed": false
   },
   "outputs": [],
   "source": [
    "placements = [(5.98520,50.79725),\n",
    "              (5.99469,50.79421),\n",
    "              (5.99411,50.80094),\n",
    "              (6.00475,50.78443),\n",
    "              (6.00417,50.79116),\n",
    "              (6.00360,50.79789),\n",
    "              (6.01309,50.79485),\n",
    "              (6.01251,50.80158),\n",
    "              (6.02200,50.79853),\n",
    "              (6.02142,50.80526),]"
   ]
  },
  {
   "cell_type": "code",
   "execution_count": 17,
   "metadata": {
    "collapsed": false
   },
   "outputs": [
    {
     "name": "stdout",
     "output_type": "stream",
     "text": [
      "Starting at: 2017-12-06 12:18:35.983274\n",
      "Arranging placements at +0.00s\n",
      "Pre-loading windspeeds at +0.00s\n",
      "Convolving power curves at +0.06s\n",
      "Initializing simulations at +0.94s\n",
      "Simulating 1 groups at +0.94s\n",
      " 0: Starting at +0.94s\n",
      " 0: Finished 10 turbines +0.95s (1250.00 turbines/sec)\n",
      "Finished simulating 10 turbines (10 surviving) at +0.95s (10.54 turbines/sec)\n",
      "Done at +0.95s!\n"
     ]
    }
   ],
   "source": [
    "# Using a turine name from the TurbineLibrary\n",
    "result = WindOnshoreWorkflow(placements, merra=MERRA_SOURCE, gwa=GWA_SOURCE, landcover=LAND_COVER_SOURCE,\n",
    "                             powerCurve=TURBINE, hubHeight=HUB_HEIGHT, cfMin=CF_MIN, verbose=VERBOSE)"
   ]
  },
  {
   "cell_type": "code",
   "execution_count": 18,
   "metadata": {
    "collapsed": false
   },
   "outputs": [
    {
     "name": "stdout",
     "output_type": "stream",
     "text": [
      "Starting at: 2017-12-06 12:18:37.359274\n",
      "Arranging placements at +0.00s\n",
      "Pre-loading windspeeds at +0.00s\n",
      "Convolving power curves at +0.07s\n",
      "Initializing simulations at +0.95s\n",
      "Simulating 1 groups at +0.95s\n",
      " 0: Starting at +0.95s\n",
      " 0: Finished 10 turbines +0.95s (1111.11 turbines/sec)\n",
      "Finished simulating 10 turbines (10 surviving) at +0.95s (10.47 turbines/sec)\n",
      "Done at +0.95s!\n"
     ]
    }
   ],
   "source": [
    "# Using a synthetic power curve\n",
    "result = WindOnshoreWorkflow(placements, merra=MERRA_SOURCE, gwa=GWA_SOURCE, landcover=LAND_COVER_SOURCE,\n",
    "                             capacity=CAPACITY, rotordiam=ROTORDIAM, hubHeight=HUB_HEIGHT, verbose=VERBOSE)"
   ]
  },
  {
   "cell_type": "markdown",
   "metadata": {},
   "source": [
    "---\n",
    "# Simulate many locatons using multiple CPUs "
   ]
  },
  {
   "cell_type": "code",
   "execution_count": 9,
   "metadata": {
    "collapsed": false
   },
   "outputs": [
    {
     "name": "stdout",
     "output_type": "stream",
     "text": [
      "Starting at: 2017-12-06 11:19:03.653274\n",
      "Arranging placements at +0.00s\n",
      "Pre-loading windspeeds at +0.08s\n",
      "Convolving power curves at +1.19s\n",
      "Initializing simulations at +2.10s\n",
      "Simulating 4 groups at +2.17s\n",
      "Finished simulating 10000 turbines (10000 surviving) at +4.74s (2111.93 turbines/sec)\n",
      "Done at +4.74s!\n"
     ]
    }
   ],
   "source": [
    "placements = np.column_stack([\n",
    "    np.linspace(5.7,6.7,10000),  # 10,000 longitudes points\n",
    "    np.linspace(50.4,51.0,10000) # 10,000 latitudes points\n",
    "])\n",
    "\n",
    "\n",
    "result = WindOnshoreWorkflow(placements, merra=MERRA_SOURCE, gwa=GWA_SOURCE, landcover=LAND_COVER_SOURCE,\n",
    "                             powerCurve=TURBINE, hubHeight=HUB_HEIGHT, cfMin=CF_MIN, verbose=VERBOSE, \n",
    "                             batchSize=BATCH_SIZE, jobs=JOBS)"
   ]
  },
  {
   "cell_type": "markdown",
   "metadata": {},
   "source": [
    "---\n",
    "# Simulate all locations in a placement file"
   ]
  },
  {
   "cell_type": "code",
   "execution_count": 3,
   "metadata": {
    "collapsed": false
   },
   "outputs": [
    {
     "name": "stdout",
     "output_type": "stream",
     "text": [
      "Starting at: 2017-12-06 11:13:59.643274\n",
      "Arranging placements at +0.00s\n",
      "Pre-loading windspeeds at +0.05s\n",
      "Convolving power curves at +1.14s\n",
      "Initializing simulations at +2.05s\n",
      "Simulating 4 groups at +2.13s\n",
      "Finished simulating 560 turbines (560 surviving) at +3.65s (153.26 turbines/sec)\n",
      "Done at +3.65s!\n"
     ]
    }
   ],
   "source": [
    "result = WindOnshoreWorkflow(PLACEMENT_SOURCE, merra=MERRA_SOURCE, gwa=GWA_SOURCE, landcover=LAND_COVER_SOURCE,\n",
    "                             powerCurve=TURBINE, hubHeight=HUB_HEIGHT, cfMin=CF_MIN, batchSize=BATCH_SIZE, jobs=JOBS, \n",
    "                             verbose=VERBOSE)"
   ]
  },
  {
   "cell_type": "markdown",
   "metadata": {},
   "source": [
    "---\n",
    "# Filter locations before simulating"
   ]
  },
  {
   "cell_type": "code",
   "execution_count": 8,
   "metadata": {
    "collapsed": false
   },
   "outputs": [
    {
     "name": "stdout",
     "output_type": "stream",
     "text": [
      "Starting at: 2017-12-06 12:12:28.555274\n",
      "Arranging placements at +0.00s\n",
      "Pre-loading windspeeds at +0.01s\n",
      "Convolving power curves at +1.10s\n",
      "Initializing simulations at +2.02s\n",
      "Simulating 4 groups at +2.08s\n",
      "Finished simulating 280 turbines (280 surviving) at +3.53s (79.28 turbines/sec)\n",
      "Done at +3.53s!\n"
     ]
    }
   ],
   "source": [
    "# Load placements into a dataframe\n",
    "placements = gk.vector.extractAsDataFrame(PLACEMENT_SOURCE, outputSRS=\"latlon\")\n",
    "\n",
    "# Do whatever filtering you want...\n",
    "placements = placements[::2]\n",
    "\n",
    "# Simulate...\n",
    "result = WindOnshoreWorkflow(placements, MERRA_SOURCE, powerCurve=TURBINE, hubHeight=HUB_HEIGHT, \n",
    "                             minCF=CF_MIN, gwa=GWA_SOURCE, landcover=LAND_COVER_SOURCE, \n",
    "                             batchSize=BATCH_SIZE, jobs=JOBS)"
   ]
  },
  {
   "cell_type": "markdown",
   "metadata": {},
   "source": [
    "---\n",
    "# Unique definitions for each turbine"
   ]
  },
  {
   "cell_type": "code",
   "execution_count": 5,
   "metadata": {
    "collapsed": false
   },
   "outputs": [
    {
     "name": "stdout",
     "output_type": "stream",
     "text": [
      "Placements:\n",
      "      lon       lat  hubHeight powerCurve\n",
      "0  5.7000  50.40000    49.0000  E-126_EP4\n",
      "1  5.7001  50.40006    49.0003  V136-3450\n",
      "2  5.7002  50.40012    49.0006  E-126_EP4\n",
      "3  5.7003  50.40018    49.0009  V136-3450\n",
      "4  5.7004  50.40024    49.0012  E-126_EP4\n",
      "5  5.7005  50.40030    49.0015  V136-3450\n",
      "6  5.7006  50.40036    49.0018  E-126_EP4\n",
      "7  5.7007  50.40042    49.0021  V136-3450\n",
      "8  5.7008  50.40048    49.0024  E-126_EP4\n",
      "9  5.7009  50.40054    49.0027  V136-3450\n",
      "\n",
      "Simulation:\n",
      "Starting at: 2017-12-06 12:58:07.245274\n",
      "Arranging placements at +0.00s\n",
      "Pre-loading windspeeds at +0.04s\n",
      "Convolving power curves at +0.12s\n",
      "   Convolving 2 power curves...\n",
      "Initializing simulations at +3.01s\n",
      "Simulating 1 groups at +3.01s\n",
      " 0: Starting at +3.01s\n",
      " 0: Finished 10000 turbines +8.90s (1698.66 turbines/sec)\n",
      "Finished simulating 10000 turbines (10000 surviving) at +8.91s (1121.70 turbines/sec)\n",
      "Done at +8.91s!\n"
     ]
    }
   ],
   "source": [
    "# Give a turbine name to each placement\n",
    "placements = pd.DataFrame()\n",
    "placements[\"lon\"] = np.linspace(5.7,6.7,10000)             # latitude column MUST be given as 'lat'\n",
    "placements[\"lat\"] = np.linspace(50.4,51.0,10000)           # longitude column MUST be given as 'lon'\n",
    "placements[\"hubHeight\"] = np.linspace(49,52,10000)         # hub height column can be given, but must be named as 'hubHeight'\n",
    "placements[\"powerCurve\"] = [\"E-126_EP4\", \"V136-3450\"]*5000 # turbine name column can be given, but must be named as either\n",
    "                                                           #  'turbine' or 'powerCurve'\n",
    "print(\"Placements:\")\n",
    "print(placements.head(10))\n",
    "\n",
    "print(\"\\nSimulation:\")\n",
    "result = WindOnshoreWorkflow(placements, MERRA_SOURCE, gwa=GWA_SOURCE, landcover=LAND_COVER_SOURCE, \n",
    "                             batchSize=BATCH_SIZE, jobs=1, extract=\"production\")\n"
   ]
  },
  {
   "cell_type": "code",
   "execution_count": 7,
   "metadata": {
    "collapsed": false
   },
   "outputs": [
    {
     "name": "stdout",
     "output_type": "stream",
     "text": [
      "Placements:\n",
      "      lon       lat  hubHeight    capacity  rotordiam\n",
      "0  5.7000  50.40000    49.0000  3000.00000      120.0\n",
      "1  5.7001  50.40006    49.0003  3000.10001      120.0\n",
      "2  5.7002  50.40012    49.0006  3000.20002      120.0\n",
      "3  5.7003  50.40018    49.0009  3000.30003      120.0\n",
      "4  5.7004  50.40024    49.0012  3000.40004      120.0\n",
      "5  5.7005  50.40030    49.0015  3000.50005      120.0\n",
      "6  5.7006  50.40036    49.0018  3000.60006      120.0\n",
      "7  5.7007  50.40042    49.0021  3000.70007      120.0\n",
      "8  5.7008  50.40048    49.0024  3000.80008      120.0\n",
      "9  5.7009  50.40054    49.0027  3000.90009      120.0\n",
      "\n",
      "Simulation:\n",
      "Starting at: 2017-12-06 13:02:06.569274\n",
      "Arranging placements at +0.00s\n",
      "Pre-loading windspeeds at +0.06s\n",
      "Convolving power curves at +1.18s\n",
      "   Convolving 9 power curves...\n",
      "Initializing simulations at +5.58s\n",
      "Simulating 4 groups at +5.64s\n",
      "Finished simulating 10000 turbines (10000 surviving) at +9.48s (1054.85 turbines/sec)\n",
      "Done at +9.48s!\n"
     ]
    }
   ],
   "source": [
    "# Generate a synthetic pwoer curve for each placement\n",
    "placements = pd.DataFrame()\n",
    "placements[\"lon\"] = np.linspace(5.7,6.7,10000)        # latitude column MUST be given as 'lat'\n",
    "placements[\"lat\"] = np.linspace(50.4,51.0,10000)      # longitude column MUST be given as 'lon'\n",
    "placements[\"hubHeight\"] = np.linspace(49,52,10000)    # hub height column must be named as 'hubHeight'\n",
    "placements[\"capacity\"] = np.linspace(3000,4000,10000) # capacity column must be named as 'capacity'\n",
    "placements[\"rotordiam\"] = np.ones(10000)*120          # rotor diameter column must be named as 'rotordiam'\n",
    "\n",
    "print(\"Placements:\")\n",
    "print(placements.head(10))\n",
    "\n",
    "print(\"\\nSimulation:\")\n",
    "result = WindOnshoreWorkflow(placements, MERRA_SOURCE, gwa=GWA_SOURCE, landcover=LAND_COVER_SOURCE, \n",
    "                             batchSize=BATCH_SIZE, jobs=JOBS, extract=\"production\")"
   ]
  },
  {
   "cell_type": "markdown",
   "metadata": {},
   "source": [
    "---\n",
    "# Various extraction methods\n",
    "Options are:\n",
    "* \"raw\"  -> Returns the complete time-series production for each simulated turbine\n",
    "* \"capacityFactor\" -> Returns the average capacity factor for each simulated turbine\n",
    "* \"averageProduction\" -> Returns the average production at each timestep\n",
    "* \"batch\" -> Returns nothing, but if an output file is specified a \"raw\" output will be created for each batch"
   ]
  },
  {
   "cell_type": "code",
   "execution_count": 11,
   "metadata": {
    "collapsed": false
   },
   "outputs": [
    {
     "data": {
      "text/html": [
       "<div>\n",
       "<table border=\"1\" class=\"dataframe\">\n",
       "  <thead>\n",
       "    <tr style=\"text-align: right;\">\n",
       "      <th></th>\n",
       "      <th>(5.98520,50.79725)</th>\n",
       "      <th>(5.99469,50.79421)</th>\n",
       "      <th>(5.99411,50.80094)</th>\n",
       "      <th>(6.00475,50.78443)</th>\n",
       "      <th>(6.00417,50.79116)</th>\n",
       "      <th>(6.00360,50.79789)</th>\n",
       "      <th>(6.01309,50.79485)</th>\n",
       "      <th>(6.01251,50.80158)</th>\n",
       "      <th>(6.02200,50.79853)</th>\n",
       "      <th>(6.02142,50.80526)</th>\n",
       "      <th>...</th>\n",
       "      <th>(6.31490,50.82850)</th>\n",
       "      <th>(6.31437,50.83523)</th>\n",
       "      <th>(6.31383,50.84197)</th>\n",
       "      <th>(6.31330,50.84870)</th>\n",
       "      <th>(6.32384,50.83216)</th>\n",
       "      <th>(6.32331,50.83889)</th>\n",
       "      <th>(6.32278,50.84563)</th>\n",
       "      <th>(6.33332,50.82909)</th>\n",
       "      <th>(6.33279,50.83582)</th>\n",
       "      <th>(6.33226,50.84255)</th>\n",
       "    </tr>\n",
       "  </thead>\n",
       "  <tbody>\n",
       "    <tr>\n",
       "      <th>2005-01-01 00:30:00+00:00</th>\n",
       "      <td>333.143636</td>\n",
       "      <td>456.659415</td>\n",
       "      <td>449.300331</td>\n",
       "      <td>268.295160</td>\n",
       "      <td>449.951125</td>\n",
       "      <td>449.951125</td>\n",
       "      <td>519.447598</td>\n",
       "      <td>441.608939</td>\n",
       "      <td>486.066782</td>\n",
       "      <td>495.696282</td>\n",
       "      <td>...</td>\n",
       "      <td>372.642277</td>\n",
       "      <td>382.672840</td>\n",
       "      <td>451.153515</td>\n",
       "      <td>451.153515</td>\n",
       "      <td>362.440942</td>\n",
       "      <td>403.687954</td>\n",
       "      <td>474.933402</td>\n",
       "      <td>275.720410</td>\n",
       "      <td>360.499203</td>\n",
       "      <td>398.658392</td>\n",
       "    </tr>\n",
       "    <tr>\n",
       "      <th>2005-01-01 01:30:00+00:00</th>\n",
       "      <td>255.830664</td>\n",
       "      <td>355.643447</td>\n",
       "      <td>349.683410</td>\n",
       "      <td>203.734104</td>\n",
       "      <td>350.245002</td>\n",
       "      <td>350.245002</td>\n",
       "      <td>406.541594</td>\n",
       "      <td>343.455542</td>\n",
       "      <td>379.510124</td>\n",
       "      <td>387.317733</td>\n",
       "      <td>...</td>\n",
       "      <td>287.500371</td>\n",
       "      <td>295.787849</td>\n",
       "      <td>351.184168</td>\n",
       "      <td>351.184168</td>\n",
       "      <td>279.452225</td>\n",
       "      <td>312.564942</td>\n",
       "      <td>370.448454</td>\n",
       "      <td>209.681996</td>\n",
       "      <td>277.885357</td>\n",
       "      <td>308.706178</td>\n",
       "    </tr>\n",
       "    <tr>\n",
       "      <th>2005-01-01 02:30:00+00:00</th>\n",
       "      <td>213.638552</td>\n",
       "      <td>300.207095</td>\n",
       "      <td>295.026439</td>\n",
       "      <td>168.719278</td>\n",
       "      <td>295.532409</td>\n",
       "      <td>295.532409</td>\n",
       "      <td>344.489530</td>\n",
       "      <td>289.614280</td>\n",
       "      <td>320.983460</td>\n",
       "      <td>327.777445</td>\n",
       "      <td>...</td>\n",
       "      <td>240.959574</td>\n",
       "      <td>248.238454</td>\n",
       "      <td>296.330834</td>\n",
       "      <td>296.330834</td>\n",
       "      <td>234.081508</td>\n",
       "      <td>262.684503</td>\n",
       "      <td>313.080905</td>\n",
       "      <td>173.833987</td>\n",
       "      <td>232.724366</td>\n",
       "      <td>259.442674</td>\n",
       "    </tr>\n",
       "    <tr>\n",
       "      <th>2005-01-01 03:30:00+00:00</th>\n",
       "      <td>150.818671</td>\n",
       "      <td>216.857026</td>\n",
       "      <td>212.879344</td>\n",
       "      <td>117.078475</td>\n",
       "      <td>213.290072</td>\n",
       "      <td>213.290072</td>\n",
       "      <td>250.945485</td>\n",
       "      <td>208.726644</td>\n",
       "      <td>232.857394</td>\n",
       "      <td>238.089481</td>\n",
       "      <td>...</td>\n",
       "      <td>171.429562</td>\n",
       "      <td>177.088051</td>\n",
       "      <td>213.880616</td>\n",
       "      <td>213.880616</td>\n",
       "      <td>166.315762</td>\n",
       "      <td>187.979322</td>\n",
       "      <td>226.751781</td>\n",
       "      <td>120.894019</td>\n",
       "      <td>165.284728</td>\n",
       "      <td>185.634343</td>\n",
       "    </tr>\n",
       "    <tr>\n",
       "      <th>2005-01-01 04:30:00+00:00</th>\n",
       "      <td>117.484271</td>\n",
       "      <td>171.934162</td>\n",
       "      <td>168.634013</td>\n",
       "      <td>90.060393</td>\n",
       "      <td>168.985547</td>\n",
       "      <td>168.985547</td>\n",
       "      <td>200.293097</td>\n",
       "      <td>165.190885</td>\n",
       "      <td>185.241061</td>\n",
       "      <td>189.595228</td>\n",
       "      <td>...</td>\n",
       "      <td>134.333233</td>\n",
       "      <td>139.045148</td>\n",
       "      <td>169.464542</td>\n",
       "      <td>169.464542</td>\n",
       "      <td>130.184900</td>\n",
       "      <td>147.964113</td>\n",
       "      <td>180.152073</td>\n",
       "      <td>93.143775</td>\n",
       "      <td>129.338177</td>\n",
       "      <td>146.090968</td>\n",
       "    </tr>\n",
       "  </tbody>\n",
       "</table>\n",
       "<p>5 rows × 560 columns</p>\n",
       "</div>"
      ],
      "text/plain": [
       "                           (5.98520,50.79725)  (5.99469,50.79421)  \\\n",
       "2005-01-01 00:30:00+00:00          333.143636          456.659415   \n",
       "2005-01-01 01:30:00+00:00          255.830664          355.643447   \n",
       "2005-01-01 02:30:00+00:00          213.638552          300.207095   \n",
       "2005-01-01 03:30:00+00:00          150.818671          216.857026   \n",
       "2005-01-01 04:30:00+00:00          117.484271          171.934162   \n",
       "\n",
       "                           (5.99411,50.80094)  (6.00475,50.78443)  \\\n",
       "2005-01-01 00:30:00+00:00          449.300331          268.295160   \n",
       "2005-01-01 01:30:00+00:00          349.683410          203.734104   \n",
       "2005-01-01 02:30:00+00:00          295.026439          168.719278   \n",
       "2005-01-01 03:30:00+00:00          212.879344          117.078475   \n",
       "2005-01-01 04:30:00+00:00          168.634013           90.060393   \n",
       "\n",
       "                           (6.00417,50.79116)  (6.00360,50.79789)  \\\n",
       "2005-01-01 00:30:00+00:00          449.951125          449.951125   \n",
       "2005-01-01 01:30:00+00:00          350.245002          350.245002   \n",
       "2005-01-01 02:30:00+00:00          295.532409          295.532409   \n",
       "2005-01-01 03:30:00+00:00          213.290072          213.290072   \n",
       "2005-01-01 04:30:00+00:00          168.985547          168.985547   \n",
       "\n",
       "                           (6.01309,50.79485)  (6.01251,50.80158)  \\\n",
       "2005-01-01 00:30:00+00:00          519.447598          441.608939   \n",
       "2005-01-01 01:30:00+00:00          406.541594          343.455542   \n",
       "2005-01-01 02:30:00+00:00          344.489530          289.614280   \n",
       "2005-01-01 03:30:00+00:00          250.945485          208.726644   \n",
       "2005-01-01 04:30:00+00:00          200.293097          165.190885   \n",
       "\n",
       "                           (6.02200,50.79853)  (6.02142,50.80526)  \\\n",
       "2005-01-01 00:30:00+00:00          486.066782          495.696282   \n",
       "2005-01-01 01:30:00+00:00          379.510124          387.317733   \n",
       "2005-01-01 02:30:00+00:00          320.983460          327.777445   \n",
       "2005-01-01 03:30:00+00:00          232.857394          238.089481   \n",
       "2005-01-01 04:30:00+00:00          185.241061          189.595228   \n",
       "\n",
       "                                  ...          (6.31490,50.82850)  \\\n",
       "2005-01-01 00:30:00+00:00         ...                  372.642277   \n",
       "2005-01-01 01:30:00+00:00         ...                  287.500371   \n",
       "2005-01-01 02:30:00+00:00         ...                  240.959574   \n",
       "2005-01-01 03:30:00+00:00         ...                  171.429562   \n",
       "2005-01-01 04:30:00+00:00         ...                  134.333233   \n",
       "\n",
       "                           (6.31437,50.83523)  (6.31383,50.84197)  \\\n",
       "2005-01-01 00:30:00+00:00          382.672840          451.153515   \n",
       "2005-01-01 01:30:00+00:00          295.787849          351.184168   \n",
       "2005-01-01 02:30:00+00:00          248.238454          296.330834   \n",
       "2005-01-01 03:30:00+00:00          177.088051          213.880616   \n",
       "2005-01-01 04:30:00+00:00          139.045148          169.464542   \n",
       "\n",
       "                           (6.31330,50.84870)  (6.32384,50.83216)  \\\n",
       "2005-01-01 00:30:00+00:00          451.153515          362.440942   \n",
       "2005-01-01 01:30:00+00:00          351.184168          279.452225   \n",
       "2005-01-01 02:30:00+00:00          296.330834          234.081508   \n",
       "2005-01-01 03:30:00+00:00          213.880616          166.315762   \n",
       "2005-01-01 04:30:00+00:00          169.464542          130.184900   \n",
       "\n",
       "                           (6.32331,50.83889)  (6.32278,50.84563)  \\\n",
       "2005-01-01 00:30:00+00:00          403.687954          474.933402   \n",
       "2005-01-01 01:30:00+00:00          312.564942          370.448454   \n",
       "2005-01-01 02:30:00+00:00          262.684503          313.080905   \n",
       "2005-01-01 03:30:00+00:00          187.979322          226.751781   \n",
       "2005-01-01 04:30:00+00:00          147.964113          180.152073   \n",
       "\n",
       "                           (6.33332,50.82909)  (6.33279,50.83582)  \\\n",
       "2005-01-01 00:30:00+00:00          275.720410          360.499203   \n",
       "2005-01-01 01:30:00+00:00          209.681996          277.885357   \n",
       "2005-01-01 02:30:00+00:00          173.833987          232.724366   \n",
       "2005-01-01 03:30:00+00:00          120.894019          165.284728   \n",
       "2005-01-01 04:30:00+00:00           93.143775          129.338177   \n",
       "\n",
       "                           (6.33226,50.84255)  \n",
       "2005-01-01 00:30:00+00:00          398.658392  \n",
       "2005-01-01 01:30:00+00:00          308.706178  \n",
       "2005-01-01 02:30:00+00:00          259.442674  \n",
       "2005-01-01 03:30:00+00:00          185.634343  \n",
       "2005-01-01 04:30:00+00:00          146.090968  \n",
       "\n",
       "[5 rows x 560 columns]"
      ]
     },
     "execution_count": 11,
     "metadata": {},
     "output_type": "execute_result"
    }
   ],
   "source": [
    "result = WindOnshoreWorkflow(PLACEMENT_SOURCE, merra=MERRA_SOURCE, gwa=GWA_SOURCE, landcover=LAND_COVER_SOURCE,\n",
    "                             powerCurve=TURBINE, hubHeight=HUB_HEIGHT, cfMin=CF_MIN, batchSize=BATCH_SIZE, jobs=JOBS, \n",
    "                             verbose=False, extract=\"raw\")\n",
    "result.head()"
   ]
  },
  {
   "cell_type": "code",
   "execution_count": 13,
   "metadata": {
    "collapsed": false
   },
   "outputs": [
    {
     "data": {
      "text/plain": [
       "(5.98520,50.79725)    0.335618\n",
       "(5.99469,50.79421)    0.394444\n",
       "(5.99411,50.80094)    0.391305\n",
       "(6.00475,50.78443)    0.298416\n",
       "(6.00417,50.79116)    0.391432\n",
       "dtype: float64"
      ]
     },
     "execution_count": 13,
     "metadata": {},
     "output_type": "execute_result"
    }
   ],
   "source": [
    "result = WindOnshoreWorkflow(PLACEMENT_SOURCE, merra=MERRA_SOURCE, gwa=GWA_SOURCE, landcover=LAND_COVER_SOURCE,\n",
    "                             powerCurve=TURBINE, hubHeight=HUB_HEIGHT, cfMin=CF_MIN, batchSize=BATCH_SIZE, jobs=JOBS, \n",
    "                             verbose=False, extract=\"capacityFactor\")\n",
    "result.head()"
   ]
  },
  {
   "cell_type": "code",
   "execution_count": 12,
   "metadata": {
    "collapsed": false
   },
   "outputs": [
    {
     "data": {
      "text/plain": [
       "2005-01-01 00:30:00+00:00    365.754992\n",
       "2005-01-01 01:30:00+00:00    287.918736\n",
       "2005-01-01 02:30:00+00:00    244.041949\n",
       "2005-01-01 03:30:00+00:00    173.182568\n",
       "2005-01-01 04:30:00+00:00    125.666624\n",
       "dtype: float64"
      ]
     },
     "execution_count": 12,
     "metadata": {},
     "output_type": "execute_result"
    }
   ],
   "source": [
    "result = WindOnshoreWorkflow(PLACEMENT_SOURCE, merra=MERRA_SOURCE, gwa=GWA_SOURCE, landcover=LAND_COVER_SOURCE,\n",
    "                             powerCurve=TURBINE, hubHeight=HUB_HEIGHT, cfMin=CF_MIN, batchSize=BATCH_SIZE, jobs=JOBS, \n",
    "                             verbose=False, extract=\"averageProduction\")\n",
    "result.head()"
   ]
  },
  {
   "cell_type": "markdown",
   "metadata": {
    "collapsed": true
   },
   "source": [
    "---\n",
    "# Saving result as an output file\n",
    "Options are:\n",
    "* \".shp\" -> As a shape file (only available when extracting the capacity factors)\n",
    "* \".csv\" -> As a csv file\n",
    "* \".nc\"  -> As a netCDF4 file"
   ]
  },
  {
   "cell_type": "code",
   "execution_count": null,
   "metadata": {
    "collapsed": true
   },
   "outputs": [],
   "source": [
    "result = windProductionFromMerraSource(PLACEMENT_SOURCE, MERRA_SOURCE, turbine=TURBINE, hubHeight=HUB_HEIGHT, \n",
    "                                       cfMin=CF_MIN, gwaSource=GWA_SOURCE, lcSource=LAND_COVER_SOURCE, \n",
    "                                       batchSize=BATCH_SIZE, jobs=JOBS, output=\"test.csv\")"
   ]
  }
 ],
 "metadata": {
  "kernelspec": {
   "display_name": "Python [default]",
   "language": "python",
   "name": "python3"
  },
  "language_info": {
   "codemirror_mode": {
    "name": "ipython",
    "version": 3
   },
   "file_extension": ".py",
   "mimetype": "text/x-python",
   "name": "python",
   "nbconvert_exporter": "python",
   "pygments_lexer": "ipython3",
   "version": "3.4.5"
  }
 },
 "nbformat": 4,
 "nbformat_minor": 2
}
