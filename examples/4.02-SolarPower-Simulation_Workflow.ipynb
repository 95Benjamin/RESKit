{
 "cells": [
  {
   "cell_type": "markdown",
   "metadata": {},
   "source": [
    "# Solar PV Simulation Workflow"
   ]
  },
  {
   "cell_type": "code",
   "execution_count": 1,
   "metadata": {},
   "outputs": [],
   "source": [
    "import reskit as rk\n",
    "from reskit import solarpower\n",
    "\n",
    "%matplotlib inline"
   ]
  },
  {
   "cell_type": "markdown",
   "metadata": {},
   "source": [
    "---\n",
    "## Single Location"
   ]
  },
  {
   "cell_type": "code",
   "execution_count": 2,
   "metadata": {},
   "outputs": [],
   "source": [
    "# Constants\n",
    "LOC = (6.0,50.5)   # Given in longitude, latitude\n",
    "ELEV = 100         # Elevation given in meters"
   ]
  },
  {
   "cell_type": "code",
   "execution_count": 4,
   "metadata": {},
   "outputs": [
    {
     "name": "stdout",
     "output_type": "stream",
     "text": [
      "c:\\users\\s.ryberg\\fzj\\repos\\res\\reskit\\test\\data\\weather_data\\MERRA_tavg1_2d.2015.Europe.PS.nc4\n",
      "c:\\users\\s.ryberg\\fzj\\repos\\res\\reskit\\test\\data\\weather_data\\MERRA_tavg1_2d.2015.Europe.SWGDN.nc4\n",
      "c:\\users\\s.ryberg\\fzj\\repos\\res\\reskit\\test\\data\\weather_data\\MERRA_tavg1_2d.2015.Europe.T10M.nc4\n",
      "c:\\users\\s.ryberg\\fzj\\repos\\res\\reskit\\test\\data\\weather_data\\MERRA_tavg1_2d.2015.Europe.T2M.nc4\n",
      "c:\\users\\s.ryberg\\fzj\\repos\\res\\reskit\\test\\data\\weather_data\\MERRA_tavg1_2d.2015.Europe.T2MDEW.nc4\n",
      "c:\\users\\s.ryberg\\fzj\\repos\\res\\reskit\\test\\data\\weather_data\\MERRA_tavg1_2d.2015.Europe.U10M.nc4\n",
      "c:\\users\\s.ryberg\\fzj\\repos\\res\\reskit\\test\\data\\weather_data\\MERRA_tavg1_2d.2015.Europe.U2M.nc4\n",
      "c:\\users\\s.ryberg\\fzj\\repos\\res\\reskit\\test\\data\\weather_data\\MERRA_tavg1_2d.2015.Europe.U50M.nc4\n",
      "c:\\users\\s.ryberg\\fzj\\repos\\res\\reskit\\test\\data\\weather_data\\MERRA_tavg1_2d.2015.Europe.V10M.nc4\n",
      "c:\\users\\s.ryberg\\fzj\\repos\\res\\reskit\\test\\data\\weather_data\\MERRA_tavg1_2d.2015.Europe.V2M.nc4\n",
      "c:\\users\\s.ryberg\\fzj\\repos\\res\\reskit\\test\\data\\weather_data\\MERRA_tavg1_2d.2015.Europe.V50M.nc4\n"
     ]
    }
   ],
   "source": [
    "# Load Weather Data\n",
    "SOURCE = rk.weather.sources.MerraSource(\n",
    "    rk._TEST_DATA_['weather_data'], # Path to climate model weather data (MERRA2)\n",
    "    bounds=[5,49,7,52],\n",
    ")\n",
    "\n",
    "SOURCE.loadRadiation()\n",
    "SOURCE.loadPressure()\n",
    "SOURCE.loadTemperature()\n",
    "SOURCE.loadWindSpeed(10)"
   ]
  },
  {
   "cell_type": "code",
   "execution_count": 5,
   "metadata": {},
   "outputs": [
    {
     "name": "stderr",
     "output_type": "stream",
     "text": [
      "c:\\users\\s.ryberg\\fzj\\repos\\res\\reskit\\solarpower\\_pv.py:162: RuntimeWarning: divide by zero encountered in true_divide\n",
      "  kt_prime = kt / (1.031 * np.exp(-1.4 / (0.9 + 9.4 / am)) + 0.1)\n"
     ]
    },
    {
     "data": {
      "text/html": [
       "<div>\n",
       "<style scoped>\n",
       "    .dataframe tbody tr th:only-of-type {\n",
       "        vertical-align: middle;\n",
       "    }\n",
       "\n",
       "    .dataframe tbody tr th {\n",
       "        vertical-align: top;\n",
       "    }\n",
       "\n",
       "    .dataframe thead th {\n",
       "        text-align: right;\n",
       "    }\n",
       "</style>\n",
       "<table border=\"1\" class=\"dataframe\">\n",
       "  <thead>\n",
       "    <tr style=\"text-align: right;\">\n",
       "      <th></th>\n",
       "      <th>(6.00000,50.50000)</th>\n",
       "    </tr>\n",
       "  </thead>\n",
       "  <tbody>\n",
       "    <tr>\n",
       "      <th>2015-01-01 00:30:00.000013+00:00</th>\n",
       "      <td>0.000000</td>\n",
       "    </tr>\n",
       "    <tr>\n",
       "      <th>2015-01-01 01:30:00+00:00</th>\n",
       "      <td>0.000000</td>\n",
       "    </tr>\n",
       "    <tr>\n",
       "      <th>2015-01-01 02:30:00.000026+00:00</th>\n",
       "      <td>0.000000</td>\n",
       "    </tr>\n",
       "    <tr>\n",
       "      <th>2015-01-01 03:30:00.000013+00:00</th>\n",
       "      <td>0.000000</td>\n",
       "    </tr>\n",
       "    <tr>\n",
       "      <th>2015-01-01 04:30:00+00:00</th>\n",
       "      <td>0.000000</td>\n",
       "    </tr>\n",
       "    <tr>\n",
       "      <th>2015-01-01 05:30:00.000026+00:00</th>\n",
       "      <td>0.000000</td>\n",
       "    </tr>\n",
       "    <tr>\n",
       "      <th>2015-01-01 06:30:00.000013+00:00</th>\n",
       "      <td>0.000000</td>\n",
       "    </tr>\n",
       "    <tr>\n",
       "      <th>2015-01-01 07:30:00+00:00</th>\n",
       "      <td>11.554459</td>\n",
       "    </tr>\n",
       "    <tr>\n",
       "      <th>2015-01-01 08:30:00.000026+00:00</th>\n",
       "      <td>1226.603512</td>\n",
       "    </tr>\n",
       "    <tr>\n",
       "      <th>2015-01-01 09:30:00.000013+00:00</th>\n",
       "      <td>3674.939935</td>\n",
       "    </tr>\n",
       "    <tr>\n",
       "      <th>2015-01-01 10:30:00+00:00</th>\n",
       "      <td>4210.228486</td>\n",
       "    </tr>\n",
       "    <tr>\n",
       "      <th>2015-01-01 11:30:00.000026+00:00</th>\n",
       "      <td>4503.522145</td>\n",
       "    </tr>\n",
       "    <tr>\n",
       "      <th>2015-01-01 12:30:00.000013+00:00</th>\n",
       "      <td>3603.368207</td>\n",
       "    </tr>\n",
       "    <tr>\n",
       "      <th>2015-01-01 13:30:00+00:00</th>\n",
       "      <td>2289.481498</td>\n",
       "    </tr>\n",
       "    <tr>\n",
       "      <th>2015-01-01 14:30:00.000026+00:00</th>\n",
       "      <td>713.198807</td>\n",
       "    </tr>\n",
       "    <tr>\n",
       "      <th>2015-01-01 15:30:00.000013+00:00</th>\n",
       "      <td>37.448710</td>\n",
       "    </tr>\n",
       "    <tr>\n",
       "      <th>2015-01-01 16:30:00+00:00</th>\n",
       "      <td>0.000000</td>\n",
       "    </tr>\n",
       "    <tr>\n",
       "      <th>2015-01-01 17:30:00.000026+00:00</th>\n",
       "      <td>0.000000</td>\n",
       "    </tr>\n",
       "    <tr>\n",
       "      <th>2015-01-01 18:30:00.000013+00:00</th>\n",
       "      <td>0.000000</td>\n",
       "    </tr>\n",
       "    <tr>\n",
       "      <th>2015-01-01 19:30:00+00:00</th>\n",
       "      <td>0.000000</td>\n",
       "    </tr>\n",
       "    <tr>\n",
       "      <th>2015-01-01 20:30:00.000026+00:00</th>\n",
       "      <td>0.000000</td>\n",
       "    </tr>\n",
       "    <tr>\n",
       "      <th>2015-01-01 21:30:00.000013+00:00</th>\n",
       "      <td>0.000000</td>\n",
       "    </tr>\n",
       "    <tr>\n",
       "      <th>2015-01-01 22:30:00+00:00</th>\n",
       "      <td>0.000000</td>\n",
       "    </tr>\n",
       "    <tr>\n",
       "      <th>2015-01-01 23:30:00.000026+00:00</th>\n",
       "      <td>0.000000</td>\n",
       "    </tr>\n",
       "  </tbody>\n",
       "</table>\n",
       "</div>"
      ],
      "text/plain": [
       "                                  (6.00000,50.50000)\n",
       "2015-01-01 00:30:00.000013+00:00            0.000000\n",
       "2015-01-01 01:30:00+00:00                   0.000000\n",
       "2015-01-01 02:30:00.000026+00:00            0.000000\n",
       "2015-01-01 03:30:00.000013+00:00            0.000000\n",
       "2015-01-01 04:30:00+00:00                   0.000000\n",
       "2015-01-01 05:30:00.000026+00:00            0.000000\n",
       "2015-01-01 06:30:00.000013+00:00            0.000000\n",
       "2015-01-01 07:30:00+00:00                  11.554459\n",
       "2015-01-01 08:30:00.000026+00:00         1226.603512\n",
       "2015-01-01 09:30:00.000013+00:00         3674.939935\n",
       "2015-01-01 10:30:00+00:00                4210.228486\n",
       "2015-01-01 11:30:00.000026+00:00         4503.522145\n",
       "2015-01-01 12:30:00.000013+00:00         3603.368207\n",
       "2015-01-01 13:30:00+00:00                2289.481498\n",
       "2015-01-01 14:30:00.000026+00:00          713.198807\n",
       "2015-01-01 15:30:00.000013+00:00           37.448710\n",
       "2015-01-01 16:30:00+00:00                   0.000000\n",
       "2015-01-01 17:30:00.000026+00:00            0.000000\n",
       "2015-01-01 18:30:00.000013+00:00            0.000000\n",
       "2015-01-01 19:30:00+00:00                   0.000000\n",
       "2015-01-01 20:30:00.000026+00:00            0.000000\n",
       "2015-01-01 21:30:00.000013+00:00            0.000000\n",
       "2015-01-01 22:30:00+00:00                   0.000000\n",
       "2015-01-01 23:30:00.000026+00:00            0.000000"
      ]
     },
     "execution_count": 5,
     "metadata": {},
     "output_type": "execute_result"
    }
   ],
   "source": [
    "# Do simulation\n",
    "out = solarpower.simulatePVModule(LOC, SOURCE, ELEV,\n",
    "                                  module='1Soltech 1STH-345-WH', # Module to use for simulation\n",
    "                                  azimuth=160,                   # Azimuth of system [degrees]\n",
    "                                  tilt=44,                       # Tilt of system [degrees]\n",
    "                                  totalSystemCapacity=7500,      # Nameplate capacity [kW]\n",
    "                                  tracking='fixed'               # Tracking capability ['fixed' or 'single-axis']\n",
    "                                 )\n",
    "\n",
    "out.head(24)"
   ]
  },
  {
   "cell_type": "code",
   "execution_count": 6,
   "metadata": {},
   "outputs": [
    {
     "data": {
      "text/plain": [
       "<matplotlib.axes._subplots.AxesSubplot at 0x26091fb70f0>"
      ]
     },
     "execution_count": 6,
     "metadata": {},
     "output_type": "execute_result"
    },
    {
     "data": {
      "image/png": "[encoded data removed]",
      "text/plain": [
       "<Figure size 432x288 with 1 Axes>"
      ]
     },
     "metadata": {
      "needs_background": "light"
     },
     "output_type": "display_data"
    }
   ],
   "source": [
    "out.plot()"
   ]
  },
  {
   "cell_type": "markdown",
   "metadata": {},
   "source": [
    "---\n",
    "## Multiple Locations"
   ]
  },
  {
   "cell_type": "code",
   "execution_count": 7,
   "metadata": {},
   "outputs": [],
   "source": [
    "# Constants\n",
    "LOCS = [(6.0,50.5),\n",
    "       (6.1,50.5),\n",
    "       (6.2,50.5),\n",
    "       (6.3,50.5),]\n",
    "\n",
    "ELEVS = [100,100,200,300]\n",
    "\n",
    "# tilts could be defined for each location as well...\n",
    "# azimuths could be defined for each location as well...\n",
    "# Name plate capacities could be defined for each location as well..."
   ]
  },
  {
   "cell_type": "code",
   "execution_count": 8,
   "metadata": {},
   "outputs": [
    {
     "data": {
      "text/html": [
       "<div>\n",
       "<style scoped>\n",
       "    .dataframe tbody tr th:only-of-type {\n",
       "        vertical-align: middle;\n",
       "    }\n",
       "\n",
       "    .dataframe tbody tr th {\n",
       "        vertical-align: top;\n",
       "    }\n",
       "\n",
       "    .dataframe thead th {\n",
       "        text-align: right;\n",
       "    }\n",
       "</style>\n",
       "<table border=\"1\" class=\"dataframe\">\n",
       "  <thead>\n",
       "    <tr style=\"text-align: right;\">\n",
       "      <th></th>\n",
       "      <th>(6.00000,50.50000)</th>\n",
       "      <th>(6.10000,50.50000)</th>\n",
       "      <th>(6.20000,50.50000)</th>\n",
       "      <th>(6.30000,50.50000)</th>\n",
       "    </tr>\n",
       "  </thead>\n",
       "  <tbody>\n",
       "    <tr>\n",
       "      <th>2015-01-01 00:30:00.000013+00:00</th>\n",
       "      <td>0.000000</td>\n",
       "      <td>0.000000</td>\n",
       "      <td>0.000000</td>\n",
       "      <td>0.000000</td>\n",
       "    </tr>\n",
       "    <tr>\n",
       "      <th>2015-01-01 01:30:00+00:00</th>\n",
       "      <td>0.000000</td>\n",
       "      <td>0.000000</td>\n",
       "      <td>0.000000</td>\n",
       "      <td>0.000000</td>\n",
       "    </tr>\n",
       "    <tr>\n",
       "      <th>2015-01-01 02:30:00.000026+00:00</th>\n",
       "      <td>0.000000</td>\n",
       "      <td>0.000000</td>\n",
       "      <td>0.000000</td>\n",
       "      <td>0.000000</td>\n",
       "    </tr>\n",
       "    <tr>\n",
       "      <th>2015-01-01 03:30:00.000013+00:00</th>\n",
       "      <td>0.000000</td>\n",
       "      <td>0.000000</td>\n",
       "      <td>0.000000</td>\n",
       "      <td>0.000000</td>\n",
       "    </tr>\n",
       "    <tr>\n",
       "      <th>2015-01-01 04:30:00+00:00</th>\n",
       "      <td>0.000000</td>\n",
       "      <td>0.000000</td>\n",
       "      <td>0.000000</td>\n",
       "      <td>0.000000</td>\n",
       "    </tr>\n",
       "    <tr>\n",
       "      <th>2015-01-01 05:30:00.000026+00:00</th>\n",
       "      <td>0.000000</td>\n",
       "      <td>0.000000</td>\n",
       "      <td>0.000000</td>\n",
       "      <td>0.000000</td>\n",
       "    </tr>\n",
       "    <tr>\n",
       "      <th>2015-01-01 06:30:00.000013+00:00</th>\n",
       "      <td>0.000000</td>\n",
       "      <td>0.000000</td>\n",
       "      <td>0.000000</td>\n",
       "      <td>0.000000</td>\n",
       "    </tr>\n",
       "    <tr>\n",
       "      <th>2015-01-01 07:30:00+00:00</th>\n",
       "      <td>11.554460</td>\n",
       "      <td>12.509720</td>\n",
       "      <td>13.469283</td>\n",
       "      <td>14.595128</td>\n",
       "    </tr>\n",
       "    <tr>\n",
       "      <th>2015-01-01 08:30:00.000026+00:00</th>\n",
       "      <td>1226.603601</td>\n",
       "      <td>1303.364476</td>\n",
       "      <td>1380.080320</td>\n",
       "      <td>1462.700032</td>\n",
       "    </tr>\n",
       "    <tr>\n",
       "      <th>2015-01-01 09:30:00.000013+00:00</th>\n",
       "      <td>3674.940607</td>\n",
       "      <td>3691.656229</td>\n",
       "      <td>3850.253227</td>\n",
       "      <td>3872.486109</td>\n",
       "    </tr>\n",
       "    <tr>\n",
       "      <th>2015-01-01 10:30:00+00:00</th>\n",
       "      <td>4210.228394</td>\n",
       "      <td>4204.204019</td>\n",
       "      <td>4198.174361</td>\n",
       "      <td>4243.090187</td>\n",
       "    </tr>\n",
       "    <tr>\n",
       "      <th>2015-01-01 11:30:00.000026+00:00</th>\n",
       "      <td>4503.522145</td>\n",
       "      <td>4501.397435</td>\n",
       "      <td>4499.222879</td>\n",
       "      <td>4452.791174</td>\n",
       "    </tr>\n",
       "    <tr>\n",
       "      <th>2015-01-01 12:30:00.000013+00:00</th>\n",
       "      <td>3603.369237</td>\n",
       "      <td>3639.635014</td>\n",
       "      <td>3675.870415</td>\n",
       "      <td>3739.497663</td>\n",
       "    </tr>\n",
       "    <tr>\n",
       "      <th>2015-01-01 13:30:00+00:00</th>\n",
       "      <td>2289.482833</td>\n",
       "      <td>2335.677829</td>\n",
       "      <td>2409.348758</td>\n",
       "      <td>2275.310317</td>\n",
       "    </tr>\n",
       "    <tr>\n",
       "      <th>2015-01-01 14:30:00.000026+00:00</th>\n",
       "      <td>713.198522</td>\n",
       "      <td>695.212248</td>\n",
       "      <td>625.165532</td>\n",
       "      <td>616.562585</td>\n",
       "    </tr>\n",
       "    <tr>\n",
       "      <th>2015-01-01 15:30:00.000013+00:00</th>\n",
       "      <td>37.448706</td>\n",
       "      <td>36.522074</td>\n",
       "      <td>35.595246</td>\n",
       "      <td>34.496465</td>\n",
       "    </tr>\n",
       "    <tr>\n",
       "      <th>2015-01-01 16:30:00+00:00</th>\n",
       "      <td>0.000000</td>\n",
       "      <td>0.000000</td>\n",
       "      <td>0.000000</td>\n",
       "      <td>0.000000</td>\n",
       "    </tr>\n",
       "    <tr>\n",
       "      <th>2015-01-01 17:30:00.000026+00:00</th>\n",
       "      <td>0.000000</td>\n",
       "      <td>0.000000</td>\n",
       "      <td>0.000000</td>\n",
       "      <td>0.000000</td>\n",
       "    </tr>\n",
       "    <tr>\n",
       "      <th>2015-01-01 18:30:00.000013+00:00</th>\n",
       "      <td>0.000000</td>\n",
       "      <td>0.000000</td>\n",
       "      <td>0.000000</td>\n",
       "      <td>0.000000</td>\n",
       "    </tr>\n",
       "    <tr>\n",
       "      <th>2015-01-01 19:30:00+00:00</th>\n",
       "      <td>0.000000</td>\n",
       "      <td>0.000000</td>\n",
       "      <td>0.000000</td>\n",
       "      <td>0.000000</td>\n",
       "    </tr>\n",
       "    <tr>\n",
       "      <th>2015-01-01 20:30:00.000026+00:00</th>\n",
       "      <td>0.000000</td>\n",
       "      <td>0.000000</td>\n",
       "      <td>0.000000</td>\n",
       "      <td>0.000000</td>\n",
       "    </tr>\n",
       "    <tr>\n",
       "      <th>2015-01-01 21:30:00.000013+00:00</th>\n",
       "      <td>0.000000</td>\n",
       "      <td>0.000000</td>\n",
       "      <td>0.000000</td>\n",
       "      <td>0.000000</td>\n",
       "    </tr>\n",
       "    <tr>\n",
       "      <th>2015-01-01 22:30:00+00:00</th>\n",
       "      <td>0.000000</td>\n",
       "      <td>0.000000</td>\n",
       "      <td>0.000000</td>\n",
       "      <td>0.000000</td>\n",
       "    </tr>\n",
       "    <tr>\n",
       "      <th>2015-01-01 23:30:00.000026+00:00</th>\n",
       "      <td>0.000000</td>\n",
       "      <td>0.000000</td>\n",
       "      <td>0.000000</td>\n",
       "      <td>0.000000</td>\n",
       "    </tr>\n",
       "  </tbody>\n",
       "</table>\n",
       "</div>"
      ],
      "text/plain": [
       "                                  (6.00000,50.50000)  (6.10000,50.50000)  \\\n",
       "2015-01-01 00:30:00.000013+00:00            0.000000            0.000000   \n",
       "2015-01-01 01:30:00+00:00                   0.000000            0.000000   \n",
       "2015-01-01 02:30:00.000026+00:00            0.000000            0.000000   \n",
       "2015-01-01 03:30:00.000013+00:00            0.000000            0.000000   \n",
       "2015-01-01 04:30:00+00:00                   0.000000            0.000000   \n",
       "2015-01-01 05:30:00.000026+00:00            0.000000            0.000000   \n",
       "2015-01-01 06:30:00.000013+00:00            0.000000            0.000000   \n",
       "2015-01-01 07:30:00+00:00                  11.554460           12.509720   \n",
       "2015-01-01 08:30:00.000026+00:00         1226.603601         1303.364476   \n",
       "2015-01-01 09:30:00.000013+00:00         3674.940607         3691.656229   \n",
       "2015-01-01 10:30:00+00:00                4210.228394         4204.204019   \n",
       "2015-01-01 11:30:00.000026+00:00         4503.522145         4501.397435   \n",
       "2015-01-01 12:30:00.000013+00:00         3603.369237         3639.635014   \n",
       "2015-01-01 13:30:00+00:00                2289.482833         2335.677829   \n",
       "2015-01-01 14:30:00.000026+00:00          713.198522          695.212248   \n",
       "2015-01-01 15:30:00.000013+00:00           37.448706           36.522074   \n",
       "2015-01-01 16:30:00+00:00                   0.000000            0.000000   \n",
       "2015-01-01 17:30:00.000026+00:00            0.000000            0.000000   \n",
       "2015-01-01 18:30:00.000013+00:00            0.000000            0.000000   \n",
       "2015-01-01 19:30:00+00:00                   0.000000            0.000000   \n",
       "2015-01-01 20:30:00.000026+00:00            0.000000            0.000000   \n",
       "2015-01-01 21:30:00.000013+00:00            0.000000            0.000000   \n",
       "2015-01-01 22:30:00+00:00                   0.000000            0.000000   \n",
       "2015-01-01 23:30:00.000026+00:00            0.000000            0.000000   \n",
       "\n",
       "                                  (6.20000,50.50000)  (6.30000,50.50000)  \n",
       "2015-01-01 00:30:00.000013+00:00            0.000000            0.000000  \n",
       "2015-01-01 01:30:00+00:00                   0.000000            0.000000  \n",
       "2015-01-01 02:30:00.000026+00:00            0.000000            0.000000  \n",
       "2015-01-01 03:30:00.000013+00:00            0.000000            0.000000  \n",
       "2015-01-01 04:30:00+00:00                   0.000000            0.000000  \n",
       "2015-01-01 05:30:00.000026+00:00            0.000000            0.000000  \n",
       "2015-01-01 06:30:00.000013+00:00            0.000000            0.000000  \n",
       "2015-01-01 07:30:00+00:00                  13.469283           14.595128  \n",
       "2015-01-01 08:30:00.000026+00:00         1380.080320         1462.700032  \n",
       "2015-01-01 09:30:00.000013+00:00         3850.253227         3872.486109  \n",
       "2015-01-01 10:30:00+00:00                4198.174361         4243.090187  \n",
       "2015-01-01 11:30:00.000026+00:00         4499.222879         4452.791174  \n",
       "2015-01-01 12:30:00.000013+00:00         3675.870415         3739.497663  \n",
       "2015-01-01 13:30:00+00:00                2409.348758         2275.310317  \n",
       "2015-01-01 14:30:00.000026+00:00          625.165532          616.562585  \n",
       "2015-01-01 15:30:00.000013+00:00           35.595246           34.496465  \n",
       "2015-01-01 16:30:00+00:00                   0.000000            0.000000  \n",
       "2015-01-01 17:30:00.000026+00:00            0.000000            0.000000  \n",
       "2015-01-01 18:30:00.000013+00:00            0.000000            0.000000  \n",
       "2015-01-01 19:30:00+00:00                   0.000000            0.000000  \n",
       "2015-01-01 20:30:00.000026+00:00            0.000000            0.000000  \n",
       "2015-01-01 21:30:00.000013+00:00            0.000000            0.000000  \n",
       "2015-01-01 22:30:00+00:00                   0.000000            0.000000  \n",
       "2015-01-01 23:30:00.000026+00:00            0.000000            0.000000  "
      ]
     },
     "execution_count": 8,
     "metadata": {},
     "output_type": "execute_result"
    }
   ],
   "source": [
    "# Do simulation\n",
    "out = solarpower.simulatePVModule(LOCS, SOURCE, ELEVS,\n",
    "                                  module='1Soltech 1STH-345-WH', # Module to use for simulation\n",
    "                                  azimuth=160,                   # Azimuth of system [degrees]\n",
    "                                  tilt=44,                       # Tilt of system [degrees]\n",
    "                                  totalSystemCapacity=7500,      # Nameplate capacity [kW]\n",
    "                                  tracking='fixed'               # Tracking capability ['fixed' or 'single-axis']\n",
    "                                 )\n",
    "\n",
    "out.head(24)"
   ]
  },
  {
   "cell_type": "code",
   "execution_count": 9,
   "metadata": {},
   "outputs": [
    {
     "data": {
      "text/plain": [
       "<matplotlib.axes._subplots.AxesSubplot at 0x260922dcba8>"
      ]
     },
     "execution_count": 9,
     "metadata": {},
     "output_type": "execute_result"
    },
    {
     "data": {
      "image/png": "[encoded data removed]",
      "text/plain": [
       "<Figure size 432x288 with 1 Axes>"
      ]
     },
     "metadata": {
      "needs_background": "light"
     },
     "output_type": "display_data"
    }
   ],
   "source": [
    "out.plot()"
   ]
  },
  {
   "cell_type": "markdown",
   "metadata": {},
   "source": [
    "---\n",
    "## Simulate multiple designs at a location, and average generation values\n",
    "- Such as when you will simulate multiple rooftop PV systems"
   ]
  },
  {
   "cell_type": "code",
   "execution_count": 10,
   "metadata": {},
   "outputs": [],
   "source": [
    "# Constants\n",
    "LOC = (6.0,50.5)\n",
    "ELEV = 100\n",
    "\n",
    "# Tilts and Azimuths are given as a 1-dimensional array\n",
    "TILTS = [ 0, 0, 0,\n",
    "         10,10,10,\n",
    "         25,25,25]\n",
    "\n",
    "AZIMUTHS = [160,180,200,\n",
    "            160,180,200,\n",
    "            160,180,200,]\n",
    "\n",
    "# Occurences could be set for each tilt+azimuth combination, otherwise they are assumed to be equally distributed"
   ]
  },
  {
   "cell_type": "code",
   "execution_count": 11,
   "metadata": {},
   "outputs": [],
   "source": [
    "out = solarpower.simulatePVModuleDistribution(LOC,\n",
    "                                              elev=ELEV,\n",
    "                                              source=SOURCE,\n",
    "                                              tilts=TILTS,\n",
    "                                              azimuths=AZIMUTHS,\n",
    "                                              module='1Soltech 1STH-345-WH',\n",
    "                                             )"
   ]
  },
  {
   "cell_type": "code",
   "execution_count": 12,
   "metadata": {},
   "outputs": [
    {
     "data": {
      "text/plain": [
       "<matplotlib.axes._subplots.AxesSubplot at 0x260927726d8>"
      ]
     },
     "execution_count": 12,
     "metadata": {},
     "output_type": "execute_result"
    },
    {
     "data": {
      "image/png": "[encoded data removed]",
      "text/plain": [
       "<Figure size 432x288 with 1 Axes>"
      ]
     },
     "metadata": {
      "needs_background": "light"
     },
     "output_type": "display_data"
    }
   ],
   "source": [
    "out.plot()"
   ]
  },
  {
   "cell_type": "code",
   "execution_count": null,
   "metadata": {},
   "outputs": [],
   "source": []
  }
 ],
 "metadata": {
  "kernelspec": {
   "display_name": "Python 3",
   "language": "python",
   "name": "python3"
  },
  "language_info": {
   "codemirror_mode": {
    "name": "ipython",
    "version": 3
   },
   "file_extension": ".py",
   "mimetype": "text/x-python",
   "name": "python",
   "nbconvert_exporter": "python",
   "pygments_lexer": "ipython3",
   "version": "3.6.8"
  }
 },
 "nbformat": 4,
 "nbformat_minor": 2
}
